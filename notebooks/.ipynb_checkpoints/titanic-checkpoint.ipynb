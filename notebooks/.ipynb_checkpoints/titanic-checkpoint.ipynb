{
 "cells": [
  {
   "cell_type": "markdown",
   "id": "669bc6bb-dcd8-4ea5-800d-15dfe5ab3eaa",
   "metadata": {},
   "source": [
    "## Importações"
   ]
  },
  {
   "cell_type": "code",
   "execution_count": null,
   "id": "4815c42a-05f6-419a-b552-e78a4cb5675e",
   "metadata": {},
   "outputs": [],
   "source": []
  },
  {
   "cell_type": "markdown",
   "id": "a0cd5f12-32bd-4675-9993-00d0a159550e",
   "metadata": {},
   "source": [
    "## Titanic Challenge\n",
    "___\n",
    "\n",
    "The main purpose of this challenge is to introduce users to their first classification problem. Using the data science process we will:\n",
    "\n",
    "1. Business Understanding\n",
    "   \n",
    "2. Data Understanding\n",
    "\n",
    "3. Data preparation\n",
    "\n",
    "4. Modeling\n",
    "\n",
    "5. Evaluation\n",
    "\n",
    "6. Submition"
   ]
  },
  {
   "cell_type": "markdown",
   "id": "16c34b67-873f-46fa-8f14-3b7b4017ed2a",
   "metadata": {},
   "source": [
    "#### Business Understanding\n",
    "___\n",
    "\n",
    "Hypothetical situation:\n",
    "\n",
    "I was just hired for a data scientist job at a huge naval construction company. The company is called 'Iceberg' and they're going to make a real life functioning Titanic replica, my boss asked me to find the data from the original Titanic and usa machine learning to help him prepare for the worst. The main question was :\n",
    "\n",
    "> \"If our replica falls into the same situation as the original titanic, is there any way to predict who is going to survive?\".\n",
    "\n",
    "RMS Titanic was a British passenger liner that sank in the North Atlantic Ocean in the early morning hours of April 15, 1912 after striking an iceberg during her maiden voyage from Southampton to New York City. Of the estimated 2,224 passengers and crew aboard, more than 1,500 died, making the sinking one of modern history's deadliest peacetime commercial marine disasters ... The final survivor of the sinking, Millvina Dean, aged two months at the time, died in 2009 at the age of 97 [1].\n",
    "\n",
    "[1] https://en.wikipedia.org/wiki/RMS_Titanic"
   ]
  },
  {
   "cell_type": "markdown",
   "id": "f9661d66-23c4-4462-a2f6-81b0d76de2de",
   "metadata": {},
   "source": [
    "#### Reading the data\n",
    "___"
   ]
  },
  {
   "cell_type": "code",
   "execution_count": null,
   "id": "81ee95d5-5747-42e3-8d7d-35f8e3e3283c",
   "metadata": {},
   "outputs": [],
   "source": []
  },
  {
   "cell_type": "markdown",
   "id": "16be47b4-c1ac-48ff-900c-78abf17ddbb9",
   "metadata": {},
   "source": [
    "#### Exploring the data\n",
    "___\n",
    "\n",
    " - dependent variable : 'Survived'\n",
    " - indepent variables : 'PassengerId', 'Pclass', 'Name', 'Sex', 'Age', 'SibSp', 'Parch', 'Ticket', 'Fare', 'Cabin', 'Embarked'"
   ]
  },
  {
   "cell_type": "code",
   "execution_count": null,
   "id": "6f8aa502-9f3b-404f-89f0-09334d95ee71",
   "metadata": {},
   "outputs": [],
   "source": []
  },
  {
   "cell_type": "markdown",
   "id": "db352400-266d-48b7-a9cd-688345eec31b",
   "metadata": {},
   "source": [
    "#### Data preparation\n",
    "___\n",
    "- Deal with null values\n",
    "- Remove unused columns\n",
    "- Feature engineering\n",
    "- Feature Scaling\n",
    "- Feature Encoding\n",
    " \n",
    "Strategy: define pipelines and functions to automate the model evaluation phase"
   ]
  },
  {
   "cell_type": "code",
   "execution_count": null,
   "id": "70c8ccaa-8f57-4563-a1fa-f84cc2ff9d0d",
   "metadata": {},
   "outputs": [],
   "source": []
  },
  {
   "cell_type": "markdown",
   "id": "0f4d034a-2e53-405c-970c-c5dd460ee8bd",
   "metadata": {},
   "source": [
    "#### Modeling\n",
    "___\n",
    "- LogisticRegression\n",
    "- DecisionTreeClassifier\n",
    "- SVC"
   ]
  },
  {
   "cell_type": "code",
   "execution_count": null,
   "id": "de81218c-d4fb-4f23-b398-83406ef48cb9",
   "metadata": {},
   "outputs": [],
   "source": []
  },
  {
   "cell_type": "markdown",
   "id": "36f050f6-dda9-4a00-bfd8-8f93fbc448da",
   "metadata": {},
   "source": [
    "#### Evaluation\n",
    "___\n",
    "- Confusion Matrix"
   ]
  },
  {
   "cell_type": "code",
   "execution_count": null,
   "id": "3b2e6923-3bb4-4ef4-a1ba-27a11591b0de",
   "metadata": {},
   "outputs": [],
   "source": []
  }
 ],
 "metadata": {
  "kernelspec": {
   "display_name": "Python 3 (ipykernel)",
   "language": "python",
   "name": "python3"
  },
  "language_info": {
   "codemirror_mode": {
    "name": "ipython",
    "version": 3
   },
   "file_extension": ".py",
   "mimetype": "text/x-python",
   "name": "python",
   "nbconvert_exporter": "python",
   "pygments_lexer": "ipython3",
   "version": "3.8.10"
  }
 },
 "nbformat": 4,
 "nbformat_minor": 5
}
