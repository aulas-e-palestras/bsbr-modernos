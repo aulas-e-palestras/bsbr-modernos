{
 "cells": [
  {
   "cell_type": "code",
   "execution_count": 404,
   "id": "a7c6fc8b-0f62-4cb8-935c-0c221a837cbf",
   "metadata": {},
   "outputs": [],
   "source": [
    "import pandas as pd\n",
    "import matplotlib.pyplot as plt\n",
    "import seaborn as sns\n",
    "\n",
    "from sklearn.compose import make_column_transformer\n",
    "from sklearn.pipeline import make_pipeline\n",
    "\n",
    "from sklearn.preprocessing import OneHotEncoder\n",
    "from sklearn.preprocessing import RobustScaler\n",
    "from sklearn.impute import KNNImputer\n",
    "\n",
    "from sklearn.model_selection import train_test_split\n",
    "\n",
    "from sklearn.cluster import KMeans\n",
    "from sklearn.ensemble import RandomForestRegressor\n",
    "from sklearn.ensemble import GradientBoostingRegressor\n",
    "\n",
    "from glob import glob\n",
    "\n",
    "from warnings import filterwarnings\n",
    "filterwarnings('ignore')\n",
    "\n",
    "from sklearn import set_config\n",
    "set_config(display=\"diagram\")"
   ]
  },
  {
   "cell_type": "code",
   "execution_count": 16,
   "id": "7e0fff76-b940-41c9-acb9-ce8a26575c14",
   "metadata": {},
   "outputs": [],
   "source": [
    "dfs = []\n",
    "\n",
    "for arquivo in glob('../data/carros/*'):\n",
    "    \n",
    "    if arquivo.find('unclean') == -1:\n",
    "        dfs.append(pd.read_csv(arquivo))\n",
    "    else:\n",
    "        pass"
   ]
  },
  {
   "cell_type": "code",
   "execution_count": 183,
   "id": "df710932-ece8-4ec7-aaff-6f8c773cb5ca",
   "metadata": {},
   "outputs": [
    {
     "data": {
      "text/html": [
       "<div>\n",
       "<style scoped>\n",
       "    .dataframe tbody tr th:only-of-type {\n",
       "        vertical-align: middle;\n",
       "    }\n",
       "\n",
       "    .dataframe tbody tr th {\n",
       "        vertical-align: top;\n",
       "    }\n",
       "\n",
       "    .dataframe thead th {\n",
       "        text-align: right;\n",
       "    }\n",
       "</style>\n",
       "<table border=\"1\" class=\"dataframe\">\n",
       "  <thead>\n",
       "    <tr style=\"text-align: right;\">\n",
       "      <th></th>\n",
       "      <th>model</th>\n",
       "      <th>year</th>\n",
       "      <th>transmission</th>\n",
       "      <th>fuelType</th>\n",
       "      <th>engineSize</th>\n",
       "      <th>kml</th>\n",
       "      <th>kilometragem</th>\n",
       "      <th>preco</th>\n",
       "    </tr>\n",
       "  </thead>\n",
       "  <tbody>\n",
       "    <tr>\n",
       "      <th>0</th>\n",
       "      <td>Focus</td>\n",
       "      <td>2016</td>\n",
       "      <td>Manual</td>\n",
       "      <td>Petrol</td>\n",
       "      <td>1.0</td>\n",
       "      <td>NaN</td>\n",
       "      <td>62526.07768</td>\n",
       "      <td>43920.00</td>\n",
       "    </tr>\n",
       "    <tr>\n",
       "      <th>1</th>\n",
       "      <td>Focus</td>\n",
       "      <td>2019</td>\n",
       "      <td>Manual</td>\n",
       "      <td>Petrol</td>\n",
       "      <td>1.0</td>\n",
       "      <td>NaN</td>\n",
       "      <td>19234.83168</td>\n",
       "      <td>73566.00</td>\n",
       "    </tr>\n",
       "    <tr>\n",
       "      <th>2</th>\n",
       "      <td>Focus</td>\n",
       "      <td>2019</td>\n",
       "      <td>Manual</td>\n",
       "      <td>Petrol</td>\n",
       "      <td>1.5</td>\n",
       "      <td>NaN</td>\n",
       "      <td>35634.00628</td>\n",
       "      <td>80154.00</td>\n",
       "    </tr>\n",
       "    <tr>\n",
       "      <th>3</th>\n",
       "      <td>Focus</td>\n",
       "      <td>2016</td>\n",
       "      <td>Manual</td>\n",
       "      <td>Diesel</td>\n",
       "      <td>1.6</td>\n",
       "      <td>NaN</td>\n",
       "      <td>23414.28766</td>\n",
       "      <td>51880.50</td>\n",
       "    </tr>\n",
       "    <tr>\n",
       "      <th>4</th>\n",
       "      <td>Focus</td>\n",
       "      <td>2015</td>\n",
       "      <td>Manual</td>\n",
       "      <td>Diesel</td>\n",
       "      <td>1.6</td>\n",
       "      <td>NaN</td>\n",
       "      <td>11281.47340</td>\n",
       "      <td>54894.51</td>\n",
       "    </tr>\n",
       "  </tbody>\n",
       "</table>\n",
       "</div>"
      ],
      "text/plain": [
       "   model  year transmission fuelType engineSize  kml  kilometragem     preco\n",
       "0  Focus  2016       Manual   Petrol        1.0  NaN   62526.07768  43920.00\n",
       "1  Focus  2019       Manual   Petrol        1.0  NaN   19234.83168  73566.00\n",
       "2  Focus  2019       Manual   Petrol        1.5  NaN   35634.00628  80154.00\n",
       "3  Focus  2016       Manual   Diesel        1.6  NaN   23414.28766  51880.50\n",
       "4  Focus  2015       Manual   Diesel        1.6  NaN   11281.47340  54894.51"
      ]
     },
     "execution_count": 183,
     "metadata": {},
     "output_type": "execute_result"
    }
   ],
   "source": [
    "df = (\n",
    "    pd.concat(dfs)\n",
    "    .drop(['tax','tax(£)'],axis=1)\n",
    "    .assign(kml = lambda x: x.mpg*0.425144)\n",
    "    .drop('mpg',axis=1)\n",
    "    .assign(kilometragem = lambda x: x.mileage * 1.60934)\n",
    "    .drop('mileage',axis=1)\n",
    "    .assign(preco = lambda x: x.price * 5.49)\n",
    "    .drop('price',axis=1)\n",
    "    .assign(engineSize = lambda x: x.engineSize.astype('category'))\n",
    "    .assign(model = lambda x: x.model.str.strip())\n",
    "    .query(\"fuelType == 'Petrol' or fuelType == 'Diesel'\")\n",
    "    .query(\"model == 'Focus'\")\n",
    ")\n",
    "\n",
    "df.head()"
   ]
  },
  {
   "cell_type": "code",
   "execution_count": 184,
   "id": "096ddad2-6aaf-4e34-8494-a5ee6b109f87",
   "metadata": {},
   "outputs": [
    {
     "data": {
      "text/plain": [
       "(10042, 8)"
      ]
     },
     "execution_count": 184,
     "metadata": {},
     "output_type": "execute_result"
    }
   ],
   "source": [
    "df.shape"
   ]
  },
  {
   "cell_type": "code",
   "execution_count": 185,
   "id": "6c3c3e0b-a242-4497-825b-ac6b59f71ab0",
   "metadata": {},
   "outputs": [
    {
     "name": "stdout",
     "output_type": "stream",
     "text": [
      "<class 'pandas.core.frame.DataFrame'>\n",
      "Int64Index: 10042 entries, 0 to 17963\n",
      "Data columns (total 8 columns):\n",
      " #   Column        Non-Null Count  Dtype   \n",
      "---  ------        --------------  -----   \n",
      " 0   model         10042 non-null  object  \n",
      " 1   year          10042 non-null  int64   \n",
      " 2   transmission  10042 non-null  object  \n",
      " 3   fuelType      10042 non-null  object  \n",
      " 4   engineSize    10042 non-null  category\n",
      " 5   kml           4588 non-null   float64 \n",
      " 6   kilometragem  10042 non-null  float64 \n",
      " 7   preco         10042 non-null  float64 \n",
      "dtypes: category(1), float64(3), int64(1), object(3)\n",
      "memory usage: 638.8+ KB\n"
     ]
    }
   ],
   "source": [
    "df.info()"
   ]
  },
  {
   "cell_type": "markdown",
   "id": "fcf5c06e-2f7d-42fc-85cc-29a96a66d825",
   "metadata": {},
   "source": [
    "## Preparação dos dados\n",
    "___\n",
    "\n",
    "* Valores nulos\n",
    "* Descrição dos dados"
   ]
  },
  {
   "cell_type": "code",
   "execution_count": 186,
   "id": "4330b287-c655-4fd6-9e0b-d9daae7688d7",
   "metadata": {},
   "outputs": [
    {
     "data": {
      "text/plain": [
       "model            0.00000\n",
       "year             0.00000\n",
       "transmission     0.00000\n",
       "fuelType         0.00000\n",
       "engineSize       0.00000\n",
       "kml             54.31189\n",
       "kilometragem     0.00000\n",
       "preco            0.00000\n",
       "dtype: float64"
      ]
     },
     "execution_count": 186,
     "metadata": {},
     "output_type": "execute_result"
    }
   ],
   "source": [
    "(df.isnull().sum() / df.shape[0])*100"
   ]
  },
  {
   "cell_type": "code",
   "execution_count": 187,
   "id": "819896be-f4be-4dfc-adaf-a63396ac12d1",
   "metadata": {},
   "outputs": [
    {
     "data": {
      "text/plain": [
       "<AxesSubplot:>"
      ]
     },
     "execution_count": 187,
     "metadata": {},
     "output_type": "execute_result"
    },
    {
     "data": {
      "image/png": "[encoded data removed]",
      "text/plain": [
       "<Figure size 432x288 with 2 Axes>"
      ]
     },
     "metadata": {
      "needs_background": "light"
     },
     "output_type": "display_data"
    }
   ],
   "source": [
    "sns.heatmap(df.isnull())"
   ]
  },
  {
   "cell_type": "code",
   "execution_count": 189,
   "id": "89bc9878-624c-47fc-9dca-6e7da1fc5820",
   "metadata": {},
   "outputs": [
    {
     "data": {
      "text/plain": [
       "Focus    0.543119\n",
       "Name: model, dtype: float64"
      ]
     },
     "execution_count": 189,
     "metadata": {},
     "output_type": "execute_result"
    }
   ],
   "source": [
    "df[df.kml.isna()].model.value_counts() / df.model.value_counts()['Focus']"
   ]
  },
  {
   "cell_type": "code",
   "execution_count": 190,
   "id": "ec6103a4-b3fd-468f-be4f-f613dc64a973",
   "metadata": {},
   "outputs": [
    {
     "data": {
      "text/html": [
       "<div>\n",
       "<style scoped>\n",
       "    .dataframe tbody tr th:only-of-type {\n",
       "        vertical-align: middle;\n",
       "    }\n",
       "\n",
       "    .dataframe tbody tr th {\n",
       "        vertical-align: top;\n",
       "    }\n",
       "\n",
       "    .dataframe thead th {\n",
       "        text-align: right;\n",
       "    }\n",
       "</style>\n",
       "<table border=\"1\" class=\"dataframe\">\n",
       "  <thead>\n",
       "    <tr style=\"text-align: right;\">\n",
       "      <th></th>\n",
       "      <th>year</th>\n",
       "      <th>kml</th>\n",
       "      <th>kilometragem</th>\n",
       "      <th>preco</th>\n",
       "    </tr>\n",
       "  </thead>\n",
       "  <tbody>\n",
       "    <tr>\n",
       "      <th>count</th>\n",
       "      <td>10042.000000</td>\n",
       "      <td>4588.000000</td>\n",
       "      <td>10042.000000</td>\n",
       "      <td>10042.000000</td>\n",
       "    </tr>\n",
       "    <tr>\n",
       "      <th>mean</th>\n",
       "      <td>2017.060347</td>\n",
       "      <td>25.546642</td>\n",
       "      <td>37447.575885</td>\n",
       "      <td>73571.484533</td>\n",
       "    </tr>\n",
       "    <tr>\n",
       "      <th>std</th>\n",
       "      <td>2.138223</td>\n",
       "      <td>4.563228</td>\n",
       "      <td>33083.223796</td>\n",
       "      <td>25466.408296</td>\n",
       "    </tr>\n",
       "    <tr>\n",
       "      <th>min</th>\n",
       "      <td>2002.000000</td>\n",
       "      <td>11.181287</td>\n",
       "      <td>1.609340</td>\n",
       "      <td>2717.550000</td>\n",
       "    </tr>\n",
       "    <tr>\n",
       "      <th>25%</th>\n",
       "      <td>2016.000000</td>\n",
       "      <td>23.552978</td>\n",
       "      <td>15097.218540</td>\n",
       "      <td>56522.295000</td>\n",
       "    </tr>\n",
       "    <tr>\n",
       "      <th>50%</th>\n",
       "      <td>2017.000000</td>\n",
       "      <td>25.551154</td>\n",
       "      <td>26631.358320</td>\n",
       "      <td>71370.000000</td>\n",
       "    </tr>\n",
       "    <tr>\n",
       "      <th>75%</th>\n",
       "      <td>2019.000000</td>\n",
       "      <td>28.612191</td>\n",
       "      <td>49389.437595</td>\n",
       "      <td>92226.510000</td>\n",
       "    </tr>\n",
       "    <tr>\n",
       "      <th>max</th>\n",
       "      <td>2020.000000</td>\n",
       "      <td>35.329466</td>\n",
       "      <td>285889.594960</td>\n",
       "      <td>301922.550000</td>\n",
       "    </tr>\n",
       "  </tbody>\n",
       "</table>\n",
       "</div>"
      ],
      "text/plain": [
       "               year          kml   kilometragem          preco\n",
       "count  10042.000000  4588.000000   10042.000000   10042.000000\n",
       "mean    2017.060347    25.546642   37447.575885   73571.484533\n",
       "std        2.138223     4.563228   33083.223796   25466.408296\n",
       "min     2002.000000    11.181287       1.609340    2717.550000\n",
       "25%     2016.000000    23.552978   15097.218540   56522.295000\n",
       "50%     2017.000000    25.551154   26631.358320   71370.000000\n",
       "75%     2019.000000    28.612191   49389.437595   92226.510000\n",
       "max     2020.000000    35.329466  285889.594960  301922.550000"
      ]
     },
     "execution_count": 190,
     "metadata": {},
     "output_type": "execute_result"
    }
   ],
   "source": [
    "df.describe()"
   ]
  },
  {
   "cell_type": "code",
   "execution_count": 191,
   "id": "88b608df-2477-4541-9f8e-6f798e2c7cdf",
   "metadata": {},
   "outputs": [
    {
     "data": {
      "text/plain": [
       "array(['Petrol', 'Diesel'], dtype=object)"
      ]
     },
     "execution_count": 191,
     "metadata": {},
     "output_type": "execute_result"
    }
   ],
   "source": [
    "df.fuelType.unique()"
   ]
  },
  {
   "cell_type": "code",
   "execution_count": 192,
   "id": "7976470a-8364-42da-a054-385bf85c7bd7",
   "metadata": {},
   "outputs": [
    {
     "data": {
      "text/html": [
       "<div>\n",
       "<style scoped>\n",
       "    .dataframe tbody tr th:only-of-type {\n",
       "        vertical-align: middle;\n",
       "    }\n",
       "\n",
       "    .dataframe tbody tr th {\n",
       "        vertical-align: top;\n",
       "    }\n",
       "\n",
       "    .dataframe thead th {\n",
       "        text-align: right;\n",
       "    }\n",
       "</style>\n",
       "<table border=\"1\" class=\"dataframe\">\n",
       "  <thead>\n",
       "    <tr style=\"text-align: right;\">\n",
       "      <th></th>\n",
       "      <th>model</th>\n",
       "      <th>year</th>\n",
       "      <th>transmission</th>\n",
       "      <th>fuelType</th>\n",
       "      <th>engineSize</th>\n",
       "      <th>kml</th>\n",
       "      <th>kilometragem</th>\n",
       "      <th>preco</th>\n",
       "    </tr>\n",
       "  </thead>\n",
       "  <tbody>\n",
       "  </tbody>\n",
       "</table>\n",
       "</div>"
      ],
      "text/plain": [
       "Empty DataFrame\n",
       "Columns: [model, year, transmission, fuelType, engineSize, kml, kilometragem, preco]\n",
       "Index: []"
      ]
     },
     "execution_count": 192,
     "metadata": {},
     "output_type": "execute_result"
    }
   ],
   "source": [
    "df[df.kml > 50]"
   ]
  },
  {
   "cell_type": "code",
   "execution_count": 193,
   "id": "298d25e6-f0f2-4516-b658-644b6b0b21ed",
   "metadata": {},
   "outputs": [
    {
     "data": {
      "text/plain": [
       "<AxesSubplot:xlabel='kml'>"
      ]
     },
     "execution_count": 193,
     "metadata": {},
     "output_type": "execute_result"
    },
    {
     "data": {
      "image/png": "[encoded data removed]",
      "text/plain": [
       "<Figure size 864x576 with 1 Axes>"
      ]
     },
     "metadata": {
      "needs_background": "light"
     },
     "output_type": "display_data"
    }
   ],
   "source": [
    "f, ax = plt.subplots(figsize=(12,8))\n",
    "\n",
    "sns.boxplot(x=df.kml)"
   ]
  },
  {
   "cell_type": "markdown",
   "id": "34fff6d5-5e81-4f2a-9935-c8c98cb22f03",
   "metadata": {},
   "source": [
    "## Encoding"
   ]
  },
  {
   "cell_type": "code",
   "execution_count": 362,
   "id": "6f7baf22-2bb6-4969-8e50-8f51ecd3c653",
   "metadata": {},
   "outputs": [
    {
     "data": {
      "text/html": [
       "<div>\n",
       "<style scoped>\n",
       "    .dataframe tbody tr th:only-of-type {\n",
       "        vertical-align: middle;\n",
       "    }\n",
       "\n",
       "    .dataframe tbody tr th {\n",
       "        vertical-align: top;\n",
       "    }\n",
       "\n",
       "    .dataframe thead th {\n",
       "        text-align: right;\n",
       "    }\n",
       "</style>\n",
       "<table border=\"1\" class=\"dataframe\">\n",
       "  <thead>\n",
       "    <tr style=\"text-align: right;\">\n",
       "      <th></th>\n",
       "      <th>model</th>\n",
       "      <th>year</th>\n",
       "      <th>transmission</th>\n",
       "      <th>fuelType</th>\n",
       "      <th>engineSize</th>\n",
       "      <th>kml</th>\n",
       "      <th>kilometragem</th>\n",
       "      <th>preco</th>\n",
       "    </tr>\n",
       "  </thead>\n",
       "  <tbody>\n",
       "    <tr>\n",
       "      <th>0</th>\n",
       "      <td>Focus</td>\n",
       "      <td>2016</td>\n",
       "      <td>Manual</td>\n",
       "      <td>Petrol</td>\n",
       "      <td>1.0</td>\n",
       "      <td>NaN</td>\n",
       "      <td>62526.07768</td>\n",
       "      <td>43920.00</td>\n",
       "    </tr>\n",
       "    <tr>\n",
       "      <th>1</th>\n",
       "      <td>Focus</td>\n",
       "      <td>2019</td>\n",
       "      <td>Manual</td>\n",
       "      <td>Petrol</td>\n",
       "      <td>1.0</td>\n",
       "      <td>NaN</td>\n",
       "      <td>19234.83168</td>\n",
       "      <td>73566.00</td>\n",
       "    </tr>\n",
       "    <tr>\n",
       "      <th>2</th>\n",
       "      <td>Focus</td>\n",
       "      <td>2019</td>\n",
       "      <td>Manual</td>\n",
       "      <td>Petrol</td>\n",
       "      <td>1.5</td>\n",
       "      <td>NaN</td>\n",
       "      <td>35634.00628</td>\n",
       "      <td>80154.00</td>\n",
       "    </tr>\n",
       "    <tr>\n",
       "      <th>3</th>\n",
       "      <td>Focus</td>\n",
       "      <td>2016</td>\n",
       "      <td>Manual</td>\n",
       "      <td>Diesel</td>\n",
       "      <td>1.6</td>\n",
       "      <td>NaN</td>\n",
       "      <td>23414.28766</td>\n",
       "      <td>51880.50</td>\n",
       "    </tr>\n",
       "    <tr>\n",
       "      <th>4</th>\n",
       "      <td>Focus</td>\n",
       "      <td>2015</td>\n",
       "      <td>Manual</td>\n",
       "      <td>Diesel</td>\n",
       "      <td>1.6</td>\n",
       "      <td>NaN</td>\n",
       "      <td>11281.47340</td>\n",
       "      <td>54894.51</td>\n",
       "    </tr>\n",
       "  </tbody>\n",
       "</table>\n",
       "</div>"
      ],
      "text/plain": [
       "   model  year transmission fuelType engineSize  kml  kilometragem     preco\n",
       "0  Focus  2016       Manual   Petrol        1.0  NaN   62526.07768  43920.00\n",
       "1  Focus  2019       Manual   Petrol        1.0  NaN   19234.83168  73566.00\n",
       "2  Focus  2019       Manual   Petrol        1.5  NaN   35634.00628  80154.00\n",
       "3  Focus  2016       Manual   Diesel        1.6  NaN   23414.28766  51880.50\n",
       "4  Focus  2015       Manual   Diesel        1.6  NaN   11281.47340  54894.51"
      ]
     },
     "execution_count": 362,
     "metadata": {},
     "output_type": "execute_result"
    }
   ],
   "source": [
    "df.head()"
   ]
  },
  {
   "cell_type": "code",
   "execution_count": 367,
   "id": "73d21aea-5553-41b1-8c35-512f0e90d5d1",
   "metadata": {},
   "outputs": [],
   "source": [
    "df = df.drop(df[df.year == 2002].index)"
   ]
  },
  {
   "cell_type": "code",
   "execution_count": 368,
   "id": "9a735c32-f946-48af-80c4-5c789111a0f5",
   "metadata": {},
   "outputs": [],
   "source": [
    "feats_cat = ['year','transmission','fuelType','engineSize']\n",
    "feats_num = ['kml','kilometragem']\n",
    "\n",
    "pipe_cat = make_pipeline(OneHotEncoder(handle_unknown='ignore'))\n",
    "pipe_num = make_pipeline(KNNImputer(),RobustScaler())\n",
    "\n",
    "col_transf = make_column_transformer((pipe_cat,feats_cat),(pipe_num,feats_num))"
   ]
  },
  {
   "cell_type": "code",
   "execution_count": 369,
   "id": "f2a2b66b-a3f7-4611-95a5-d432bf88c197",
   "metadata": {},
   "outputs": [
    {
     "data": {
      "text/html": [
       "<style>#sk-be962bdb-4294-441d-83d2-2e35b3af0752 {color: black;background-color: white;}#sk-be962bdb-4294-441d-83d2-2e35b3af0752 pre{padding: 0;}#sk-be962bdb-4294-441d-83d2-2e35b3af0752 div.sk-toggleable {background-color: white;}#sk-be962bdb-4294-441d-83d2-2e35b3af0752 label.sk-toggleable__label {cursor: pointer;display: block;width: 100%;margin-bottom: 0;padding: 0.3em;box-sizing: border-box;text-align: center;}#sk-be962bdb-4294-441d-83d2-2e35b3af0752 label.sk-toggleable__label-arrow:before {content: \"▸\";float: left;margin-right: 0.25em;color: #696969;}#sk-be962bdb-4294-441d-83d2-2e35b3af0752 label.sk-toggleable__label-arrow:hover:before {color: black;}#sk-be962bdb-4294-441d-83d2-2e35b3af0752 div.sk-estimator:hover label.sk-toggleable__label-arrow:before {color: black;}#sk-be962bdb-4294-441d-83d2-2e35b3af0752 div.sk-toggleable__content {max-height: 0;max-width: 0;overflow: hidden;text-align: left;background-color: #f0f8ff;}#sk-be962bdb-4294-441d-83d2-2e35b3af0752 div.sk-toggleable__content pre {margin: 0.2em;color: black;border-radius: 0.25em;background-color: #f0f8ff;}#sk-be962bdb-4294-441d-83d2-2e35b3af0752 input.sk-toggleable__control:checked~div.sk-toggleable__content {max-height: 200px;max-width: 100%;overflow: auto;}#sk-be962bdb-4294-441d-83d2-2e35b3af0752 input.sk-toggleable__control:checked~label.sk-toggleable__label-arrow:before {content: \"▾\";}#sk-be962bdb-4294-441d-83d2-2e35b3af0752 div.sk-estimator input.sk-toggleable__control:checked~label.sk-toggleable__label {background-color: #d4ebff;}#sk-be962bdb-4294-441d-83d2-2e35b3af0752 div.sk-label input.sk-toggleable__control:checked~label.sk-toggleable__label {background-color: #d4ebff;}#sk-be962bdb-4294-441d-83d2-2e35b3af0752 input.sk-hidden--visually {border: 0;clip: rect(1px 1px 1px 1px);clip: rect(1px, 1px, 1px, 1px);height: 1px;margin: -1px;overflow: hidden;padding: 0;position: absolute;width: 1px;}#sk-be962bdb-4294-441d-83d2-2e35b3af0752 div.sk-estimator {font-family: monospace;background-color: #f0f8ff;border: 1px dotted black;border-radius: 0.25em;box-sizing: border-box;margin-bottom: 0.5em;}#sk-be962bdb-4294-441d-83d2-2e35b3af0752 div.sk-estimator:hover {background-color: #d4ebff;}#sk-be962bdb-4294-441d-83d2-2e35b3af0752 div.sk-parallel-item::after {content: \"\";width: 100%;border-bottom: 1px solid gray;flex-grow: 1;}#sk-be962bdb-4294-441d-83d2-2e35b3af0752 div.sk-label:hover label.sk-toggleable__label {background-color: #d4ebff;}#sk-be962bdb-4294-441d-83d2-2e35b3af0752 div.sk-serial::before {content: \"\";position: absolute;border-left: 1px solid gray;box-sizing: border-box;top: 2em;bottom: 0;left: 50%;}#sk-be962bdb-4294-441d-83d2-2e35b3af0752 div.sk-serial {display: flex;flex-direction: column;align-items: center;background-color: white;padding-right: 0.2em;padding-left: 0.2em;}#sk-be962bdb-4294-441d-83d2-2e35b3af0752 div.sk-item {z-index: 1;}#sk-be962bdb-4294-441d-83d2-2e35b3af0752 div.sk-parallel {display: flex;align-items: stretch;justify-content: center;background-color: white;}#sk-be962bdb-4294-441d-83d2-2e35b3af0752 div.sk-parallel::before {content: \"\";position: absolute;border-left: 1px solid gray;box-sizing: border-box;top: 2em;bottom: 0;left: 50%;}#sk-be962bdb-4294-441d-83d2-2e35b3af0752 div.sk-parallel-item {display: flex;flex-direction: column;position: relative;background-color: white;}#sk-be962bdb-4294-441d-83d2-2e35b3af0752 div.sk-parallel-item:first-child::after {align-self: flex-end;width: 50%;}#sk-be962bdb-4294-441d-83d2-2e35b3af0752 div.sk-parallel-item:last-child::after {align-self: flex-start;width: 50%;}#sk-be962bdb-4294-441d-83d2-2e35b3af0752 div.sk-parallel-item:only-child::after {width: 0;}#sk-be962bdb-4294-441d-83d2-2e35b3af0752 div.sk-dashed-wrapped {border: 1px dashed gray;margin: 0 0.4em 0.5em 0.4em;box-sizing: border-box;padding-bottom: 0.4em;background-color: white;position: relative;}#sk-be962bdb-4294-441d-83d2-2e35b3af0752 div.sk-label label {font-family: monospace;font-weight: bold;background-color: white;display: inline-block;line-height: 1.2em;}#sk-be962bdb-4294-441d-83d2-2e35b3af0752 div.sk-label-container {position: relative;z-index: 2;text-align: center;}#sk-be962bdb-4294-441d-83d2-2e35b3af0752 div.sk-container {/* jupyter's `normalize.less` sets `[hidden] { display: none; }` but bootstrap.min.css set `[hidden] { display: none !important; }` so we also need the `!important` here to be able to override the default hidden behavior on the sphinx rendered scikit-learn.org. See: https://github.com/scikit-learn/scikit-learn/issues/21755 */display: inline-block !important;position: relative;}#sk-be962bdb-4294-441d-83d2-2e35b3af0752 div.sk-text-repr-fallback {display: none;}</style><div id=\"sk-be962bdb-4294-441d-83d2-2e35b3af0752\" class=\"sk-top-container\"><div class=\"sk-text-repr-fallback\"><pre>ColumnTransformer(transformers=[(&#x27;pipeline-1&#x27;,\n",
       "                                 Pipeline(steps=[(&#x27;onehotencoder&#x27;,\n",
       "                                                  OneHotEncoder(handle_unknown=&#x27;ignore&#x27;))]),\n",
       "                                 [&#x27;year&#x27;, &#x27;transmission&#x27;, &#x27;fuelType&#x27;,\n",
       "                                  &#x27;engineSize&#x27;]),\n",
       "                                (&#x27;pipeline-2&#x27;,\n",
       "                                 Pipeline(steps=[(&#x27;knnimputer&#x27;, KNNImputer()),\n",
       "                                                 (&#x27;robustscaler&#x27;,\n",
       "                                                  RobustScaler())]),\n",
       "                                 [&#x27;kml&#x27;, &#x27;kilometragem&#x27;])])</pre><b>Please rerun this cell to show the HTML repr or trust the notebook.</b></div><div class=\"sk-container\" hidden><div class=\"sk-item sk-dashed-wrapped\"><div class=\"sk-label-container\"><div class=\"sk-label sk-toggleable\"><input class=\"sk-toggleable__control sk-hidden--visually\" id=\"64d6b189-8029-4043-accb-1c0905d93b64\" type=\"checkbox\" ><label for=\"64d6b189-8029-4043-accb-1c0905d93b64\" class=\"sk-toggleable__label sk-toggleable__label-arrow\">ColumnTransformer</label><div class=\"sk-toggleable__content\"><pre>ColumnTransformer(transformers=[(&#x27;pipeline-1&#x27;,\n",
       "                                 Pipeline(steps=[(&#x27;onehotencoder&#x27;,\n",
       "                                                  OneHotEncoder(handle_unknown=&#x27;ignore&#x27;))]),\n",
       "                                 [&#x27;year&#x27;, &#x27;transmission&#x27;, &#x27;fuelType&#x27;,\n",
       "                                  &#x27;engineSize&#x27;]),\n",
       "                                (&#x27;pipeline-2&#x27;,\n",
       "                                 Pipeline(steps=[(&#x27;knnimputer&#x27;, KNNImputer()),\n",
       "                                                 (&#x27;robustscaler&#x27;,\n",
       "                                                  RobustScaler())]),\n",
       "                                 [&#x27;kml&#x27;, &#x27;kilometragem&#x27;])])</pre></div></div></div><div class=\"sk-parallel\"><div class=\"sk-parallel-item\"><div class=\"sk-item\"><div class=\"sk-label-container\"><div class=\"sk-label sk-toggleable\"><input class=\"sk-toggleable__control sk-hidden--visually\" id=\"2e4fa627-2369-4d65-a1a9-3232b7695dc4\" type=\"checkbox\" ><label for=\"2e4fa627-2369-4d65-a1a9-3232b7695dc4\" class=\"sk-toggleable__label sk-toggleable__label-arrow\">pipeline-1</label><div class=\"sk-toggleable__content\"><pre>[&#x27;year&#x27;, &#x27;transmission&#x27;, &#x27;fuelType&#x27;, &#x27;engineSize&#x27;]</pre></div></div></div><div class=\"sk-serial\"><div class=\"sk-item\"><div class=\"sk-serial\"><div class=\"sk-item\"><div class=\"sk-estimator sk-toggleable\"><input class=\"sk-toggleable__control sk-hidden--visually\" id=\"38ffd433-0a56-4c13-b55f-f5e18f64be3e\" type=\"checkbox\" ><label for=\"38ffd433-0a56-4c13-b55f-f5e18f64be3e\" class=\"sk-toggleable__label sk-toggleable__label-arrow\">OneHotEncoder</label><div class=\"sk-toggleable__content\"><pre>OneHotEncoder(handle_unknown=&#x27;ignore&#x27;)</pre></div></div></div></div></div></div></div></div><div class=\"sk-parallel-item\"><div class=\"sk-item\"><div class=\"sk-label-container\"><div class=\"sk-label sk-toggleable\"><input class=\"sk-toggleable__control sk-hidden--visually\" id=\"a9fd9db2-f02f-4b57-99e4-c7b555133122\" type=\"checkbox\" ><label for=\"a9fd9db2-f02f-4b57-99e4-c7b555133122\" class=\"sk-toggleable__label sk-toggleable__label-arrow\">pipeline-2</label><div class=\"sk-toggleable__content\"><pre>[&#x27;kml&#x27;, &#x27;kilometragem&#x27;]</pre></div></div></div><div class=\"sk-serial\"><div class=\"sk-item\"><div class=\"sk-serial\"><div class=\"sk-item\"><div class=\"sk-estimator sk-toggleable\"><input class=\"sk-toggleable__control sk-hidden--visually\" id=\"6efc2fc1-ce2b-4f1e-b507-6bf91f0b059d\" type=\"checkbox\" ><label for=\"6efc2fc1-ce2b-4f1e-b507-6bf91f0b059d\" class=\"sk-toggleable__label sk-toggleable__label-arrow\">KNNImputer</label><div class=\"sk-toggleable__content\"><pre>KNNImputer()</pre></div></div></div><div class=\"sk-item\"><div class=\"sk-estimator sk-toggleable\"><input class=\"sk-toggleable__control sk-hidden--visually\" id=\"1a4736f1-571c-4b7d-9f6c-09362ebfbdc3\" type=\"checkbox\" ><label for=\"1a4736f1-571c-4b7d-9f6c-09362ebfbdc3\" class=\"sk-toggleable__label sk-toggleable__label-arrow\">RobustScaler</label><div class=\"sk-toggleable__content\"><pre>RobustScaler()</pre></div></div></div></div></div></div></div></div></div></div></div></div>"
      ],
      "text/plain": [
       "ColumnTransformer(transformers=[('pipeline-1',\n",
       "                                 Pipeline(steps=[('onehotencoder',\n",
       "                                                  OneHotEncoder(handle_unknown='ignore'))]),\n",
       "                                 ['year', 'transmission', 'fuelType',\n",
       "                                  'engineSize']),\n",
       "                                ('pipeline-2',\n",
       "                                 Pipeline(steps=[('knnimputer', KNNImputer()),\n",
       "                                                 ('robustscaler',\n",
       "                                                  RobustScaler())]),\n",
       "                                 ['kml', 'kilometragem'])])"
      ]
     },
     "execution_count": 369,
     "metadata": {},
     "output_type": "execute_result"
    }
   ],
   "source": [
    "col_transf"
   ]
  },
  {
   "cell_type": "code",
   "execution_count": 370,
   "id": "10e48ab8-e83b-482d-9001-884f6bb4d382",
   "metadata": {},
   "outputs": [],
   "source": [
    "col_transf.fit(df)\n",
    "df_encoded = col_transf.transform(df)"
   ]
  },
  {
   "cell_type": "code",
   "execution_count": 371,
   "id": "833157b9-bad8-4b29-8157-81df22bcba6a",
   "metadata": {},
   "outputs": [
    {
     "data": {
      "text/html": [
       "<style>#sk-a25357c4-626d-4497-9cd6-feaab7b871e4 {color: black;background-color: white;}#sk-a25357c4-626d-4497-9cd6-feaab7b871e4 pre{padding: 0;}#sk-a25357c4-626d-4497-9cd6-feaab7b871e4 div.sk-toggleable {background-color: white;}#sk-a25357c4-626d-4497-9cd6-feaab7b871e4 label.sk-toggleable__label {cursor: pointer;display: block;width: 100%;margin-bottom: 0;padding: 0.3em;box-sizing: border-box;text-align: center;}#sk-a25357c4-626d-4497-9cd6-feaab7b871e4 label.sk-toggleable__label-arrow:before {content: \"▸\";float: left;margin-right: 0.25em;color: #696969;}#sk-a25357c4-626d-4497-9cd6-feaab7b871e4 label.sk-toggleable__label-arrow:hover:before {color: black;}#sk-a25357c4-626d-4497-9cd6-feaab7b871e4 div.sk-estimator:hover label.sk-toggleable__label-arrow:before {color: black;}#sk-a25357c4-626d-4497-9cd6-feaab7b871e4 div.sk-toggleable__content {max-height: 0;max-width: 0;overflow: hidden;text-align: left;background-color: #f0f8ff;}#sk-a25357c4-626d-4497-9cd6-feaab7b871e4 div.sk-toggleable__content pre {margin: 0.2em;color: black;border-radius: 0.25em;background-color: #f0f8ff;}#sk-a25357c4-626d-4497-9cd6-feaab7b871e4 input.sk-toggleable__control:checked~div.sk-toggleable__content {max-height: 200px;max-width: 100%;overflow: auto;}#sk-a25357c4-626d-4497-9cd6-feaab7b871e4 input.sk-toggleable__control:checked~label.sk-toggleable__label-arrow:before {content: \"▾\";}#sk-a25357c4-626d-4497-9cd6-feaab7b871e4 div.sk-estimator input.sk-toggleable__control:checked~label.sk-toggleable__label {background-color: #d4ebff;}#sk-a25357c4-626d-4497-9cd6-feaab7b871e4 div.sk-label input.sk-toggleable__control:checked~label.sk-toggleable__label {background-color: #d4ebff;}#sk-a25357c4-626d-4497-9cd6-feaab7b871e4 input.sk-hidden--visually {border: 0;clip: rect(1px 1px 1px 1px);clip: rect(1px, 1px, 1px, 1px);height: 1px;margin: -1px;overflow: hidden;padding: 0;position: absolute;width: 1px;}#sk-a25357c4-626d-4497-9cd6-feaab7b871e4 div.sk-estimator {font-family: monospace;background-color: #f0f8ff;border: 1px dotted black;border-radius: 0.25em;box-sizing: border-box;margin-bottom: 0.5em;}#sk-a25357c4-626d-4497-9cd6-feaab7b871e4 div.sk-estimator:hover {background-color: #d4ebff;}#sk-a25357c4-626d-4497-9cd6-feaab7b871e4 div.sk-parallel-item::after {content: \"\";width: 100%;border-bottom: 1px solid gray;flex-grow: 1;}#sk-a25357c4-626d-4497-9cd6-feaab7b871e4 div.sk-label:hover label.sk-toggleable__label {background-color: #d4ebff;}#sk-a25357c4-626d-4497-9cd6-feaab7b871e4 div.sk-serial::before {content: \"\";position: absolute;border-left: 1px solid gray;box-sizing: border-box;top: 2em;bottom: 0;left: 50%;}#sk-a25357c4-626d-4497-9cd6-feaab7b871e4 div.sk-serial {display: flex;flex-direction: column;align-items: center;background-color: white;padding-right: 0.2em;padding-left: 0.2em;}#sk-a25357c4-626d-4497-9cd6-feaab7b871e4 div.sk-item {z-index: 1;}#sk-a25357c4-626d-4497-9cd6-feaab7b871e4 div.sk-parallel {display: flex;align-items: stretch;justify-content: center;background-color: white;}#sk-a25357c4-626d-4497-9cd6-feaab7b871e4 div.sk-parallel::before {content: \"\";position: absolute;border-left: 1px solid gray;box-sizing: border-box;top: 2em;bottom: 0;left: 50%;}#sk-a25357c4-626d-4497-9cd6-feaab7b871e4 div.sk-parallel-item {display: flex;flex-direction: column;position: relative;background-color: white;}#sk-a25357c4-626d-4497-9cd6-feaab7b871e4 div.sk-parallel-item:first-child::after {align-self: flex-end;width: 50%;}#sk-a25357c4-626d-4497-9cd6-feaab7b871e4 div.sk-parallel-item:last-child::after {align-self: flex-start;width: 50%;}#sk-a25357c4-626d-4497-9cd6-feaab7b871e4 div.sk-parallel-item:only-child::after {width: 0;}#sk-a25357c4-626d-4497-9cd6-feaab7b871e4 div.sk-dashed-wrapped {border: 1px dashed gray;margin: 0 0.4em 0.5em 0.4em;box-sizing: border-box;padding-bottom: 0.4em;background-color: white;position: relative;}#sk-a25357c4-626d-4497-9cd6-feaab7b871e4 div.sk-label label {font-family: monospace;font-weight: bold;background-color: white;display: inline-block;line-height: 1.2em;}#sk-a25357c4-626d-4497-9cd6-feaab7b871e4 div.sk-label-container {position: relative;z-index: 2;text-align: center;}#sk-a25357c4-626d-4497-9cd6-feaab7b871e4 div.sk-container {/* jupyter's `normalize.less` sets `[hidden] { display: none; }` but bootstrap.min.css set `[hidden] { display: none !important; }` so we also need the `!important` here to be able to override the default hidden behavior on the sphinx rendered scikit-learn.org. See: https://github.com/scikit-learn/scikit-learn/issues/21755 */display: inline-block !important;position: relative;}#sk-a25357c4-626d-4497-9cd6-feaab7b871e4 div.sk-text-repr-fallback {display: none;}</style><div id=\"sk-a25357c4-626d-4497-9cd6-feaab7b871e4\" class=\"sk-top-container\"><div class=\"sk-text-repr-fallback\"><pre>KMeans()</pre><b>Please rerun this cell to show the HTML repr or trust the notebook.</b></div><div class=\"sk-container\" hidden><div class=\"sk-item\"><div class=\"sk-estimator sk-toggleable\"><input class=\"sk-toggleable__control sk-hidden--visually\" id=\"0387dd04-d8c2-48b2-b042-53d0fd8aff1e\" type=\"checkbox\" checked><label for=\"0387dd04-d8c2-48b2-b042-53d0fd8aff1e\" class=\"sk-toggleable__label sk-toggleable__label-arrow\">KMeans</label><div class=\"sk-toggleable__content\"><pre>KMeans()</pre></div></div></div></div></div>"
      ],
      "text/plain": [
       "KMeans()"
      ]
     },
     "execution_count": 371,
     "metadata": {},
     "output_type": "execute_result"
    }
   ],
   "source": [
    "km = KMeans(n_clusters=8)\n",
    "km.fit(df_encoded)"
   ]
  },
  {
   "cell_type": "code",
   "execution_count": 372,
   "id": "70a4144b-ef03-4682-8e49-7145843a9362",
   "metadata": {},
   "outputs": [],
   "source": [
    "df_encoded = pd.DataFrame(df_encoded.todense()).assign(labels = km.labels_)"
   ]
  },
  {
   "cell_type": "code",
   "execution_count": 373,
   "id": "f668d70e-8fc2-42ea-99a4-bfd0fbd486e3",
   "metadata": {},
   "outputs": [
    {
     "data": {
      "text/html": [
       "<div>\n",
       "<style scoped>\n",
       "    .dataframe tbody tr th:only-of-type {\n",
       "        vertical-align: middle;\n",
       "    }\n",
       "\n",
       "    .dataframe tbody tr th {\n",
       "        vertical-align: top;\n",
       "    }\n",
       "\n",
       "    .dataframe thead th {\n",
       "        text-align: right;\n",
       "    }\n",
       "</style>\n",
       "<table border=\"1\" class=\"dataframe\">\n",
       "  <thead>\n",
       "    <tr style=\"text-align: right;\">\n",
       "      <th></th>\n",
       "      <th>0</th>\n",
       "      <th>1</th>\n",
       "      <th>2</th>\n",
       "      <th>3</th>\n",
       "      <th>4</th>\n",
       "      <th>5</th>\n",
       "      <th>6</th>\n",
       "      <th>7</th>\n",
       "      <th>8</th>\n",
       "      <th>9</th>\n",
       "      <th>...</th>\n",
       "      <th>24</th>\n",
       "      <th>25</th>\n",
       "      <th>26</th>\n",
       "      <th>27</th>\n",
       "      <th>28</th>\n",
       "      <th>29</th>\n",
       "      <th>30</th>\n",
       "      <th>31</th>\n",
       "      <th>32</th>\n",
       "      <th>labels</th>\n",
       "    </tr>\n",
       "  </thead>\n",
       "  <tbody>\n",
       "    <tr>\n",
       "      <th>0</th>\n",
       "      <td>0.0</td>\n",
       "      <td>0.0</td>\n",
       "      <td>0.0</td>\n",
       "      <td>0.0</td>\n",
       "      <td>0.0</td>\n",
       "      <td>0.0</td>\n",
       "      <td>0.0</td>\n",
       "      <td>0.0</td>\n",
       "      <td>0.0</td>\n",
       "      <td>0.0</td>\n",
       "      <td>...</td>\n",
       "      <td>0.0</td>\n",
       "      <td>0.0</td>\n",
       "      <td>0.0</td>\n",
       "      <td>0.0</td>\n",
       "      <td>0.0</td>\n",
       "      <td>0.0</td>\n",
       "      <td>0.0</td>\n",
       "      <td>0.044335</td>\n",
       "      <td>1.046841</td>\n",
       "      <td>7</td>\n",
       "    </tr>\n",
       "    <tr>\n",
       "      <th>1</th>\n",
       "      <td>0.0</td>\n",
       "      <td>0.0</td>\n",
       "      <td>0.0</td>\n",
       "      <td>0.0</td>\n",
       "      <td>0.0</td>\n",
       "      <td>0.0</td>\n",
       "      <td>0.0</td>\n",
       "      <td>0.0</td>\n",
       "      <td>0.0</td>\n",
       "      <td>0.0</td>\n",
       "      <td>...</td>\n",
       "      <td>0.0</td>\n",
       "      <td>0.0</td>\n",
       "      <td>0.0</td>\n",
       "      <td>0.0</td>\n",
       "      <td>0.0</td>\n",
       "      <td>0.0</td>\n",
       "      <td>0.0</td>\n",
       "      <td>-0.726601</td>\n",
       "      <td>-0.215714</td>\n",
       "      <td>4</td>\n",
       "    </tr>\n",
       "    <tr>\n",
       "      <th>2</th>\n",
       "      <td>0.0</td>\n",
       "      <td>0.0</td>\n",
       "      <td>0.0</td>\n",
       "      <td>0.0</td>\n",
       "      <td>0.0</td>\n",
       "      <td>0.0</td>\n",
       "      <td>0.0</td>\n",
       "      <td>0.0</td>\n",
       "      <td>0.0</td>\n",
       "      <td>0.0</td>\n",
       "      <td>...</td>\n",
       "      <td>0.0</td>\n",
       "      <td>1.0</td>\n",
       "      <td>0.0</td>\n",
       "      <td>0.0</td>\n",
       "      <td>0.0</td>\n",
       "      <td>0.0</td>\n",
       "      <td>0.0</td>\n",
       "      <td>0.076355</td>\n",
       "      <td>0.262555</td>\n",
       "      <td>4</td>\n",
       "    </tr>\n",
       "    <tr>\n",
       "      <th>3</th>\n",
       "      <td>0.0</td>\n",
       "      <td>0.0</td>\n",
       "      <td>0.0</td>\n",
       "      <td>0.0</td>\n",
       "      <td>0.0</td>\n",
       "      <td>0.0</td>\n",
       "      <td>0.0</td>\n",
       "      <td>0.0</td>\n",
       "      <td>0.0</td>\n",
       "      <td>0.0</td>\n",
       "      <td>...</td>\n",
       "      <td>0.0</td>\n",
       "      <td>0.0</td>\n",
       "      <td>1.0</td>\n",
       "      <td>0.0</td>\n",
       "      <td>0.0</td>\n",
       "      <td>0.0</td>\n",
       "      <td>0.0</td>\n",
       "      <td>1.576355</td>\n",
       "      <td>-0.093823</td>\n",
       "      <td>6</td>\n",
       "    </tr>\n",
       "    <tr>\n",
       "      <th>4</th>\n",
       "      <td>0.0</td>\n",
       "      <td>0.0</td>\n",
       "      <td>0.0</td>\n",
       "      <td>0.0</td>\n",
       "      <td>0.0</td>\n",
       "      <td>0.0</td>\n",
       "      <td>0.0</td>\n",
       "      <td>0.0</td>\n",
       "      <td>0.0</td>\n",
       "      <td>0.0</td>\n",
       "      <td>...</td>\n",
       "      <td>0.0</td>\n",
       "      <td>0.0</td>\n",
       "      <td>1.0</td>\n",
       "      <td>0.0</td>\n",
       "      <td>0.0</td>\n",
       "      <td>0.0</td>\n",
       "      <td>0.0</td>\n",
       "      <td>-0.357143</td>\n",
       "      <td>-0.447667</td>\n",
       "      <td>3</td>\n",
       "    </tr>\n",
       "    <tr>\n",
       "      <th>...</th>\n",
       "      <td>...</td>\n",
       "      <td>...</td>\n",
       "      <td>...</td>\n",
       "      <td>...</td>\n",
       "      <td>...</td>\n",
       "      <td>...</td>\n",
       "      <td>...</td>\n",
       "      <td>...</td>\n",
       "      <td>...</td>\n",
       "      <td>...</td>\n",
       "      <td>...</td>\n",
       "      <td>...</td>\n",
       "      <td>...</td>\n",
       "      <td>...</td>\n",
       "      <td>...</td>\n",
       "      <td>...</td>\n",
       "      <td>...</td>\n",
       "      <td>...</td>\n",
       "      <td>...</td>\n",
       "      <td>...</td>\n",
       "      <td>...</td>\n",
       "    </tr>\n",
       "    <tr>\n",
       "      <th>10036</th>\n",
       "      <td>0.0</td>\n",
       "      <td>0.0</td>\n",
       "      <td>0.0</td>\n",
       "      <td>0.0</td>\n",
       "      <td>0.0</td>\n",
       "      <td>0.0</td>\n",
       "      <td>0.0</td>\n",
       "      <td>0.0</td>\n",
       "      <td>0.0</td>\n",
       "      <td>0.0</td>\n",
       "      <td>...</td>\n",
       "      <td>0.0</td>\n",
       "      <td>0.0</td>\n",
       "      <td>0.0</td>\n",
       "      <td>0.0</td>\n",
       "      <td>1.0</td>\n",
       "      <td>0.0</td>\n",
       "      <td>0.0</td>\n",
       "      <td>-2.290640</td>\n",
       "      <td>-0.262274</td>\n",
       "      <td>2</td>\n",
       "    </tr>\n",
       "    <tr>\n",
       "      <th>10037</th>\n",
       "      <td>0.0</td>\n",
       "      <td>0.0</td>\n",
       "      <td>0.0</td>\n",
       "      <td>0.0</td>\n",
       "      <td>0.0</td>\n",
       "      <td>0.0</td>\n",
       "      <td>0.0</td>\n",
       "      <td>0.0</td>\n",
       "      <td>0.0</td>\n",
       "      <td>0.0</td>\n",
       "      <td>...</td>\n",
       "      <td>0.0</td>\n",
       "      <td>0.0</td>\n",
       "      <td>0.0</td>\n",
       "      <td>0.0</td>\n",
       "      <td>0.0</td>\n",
       "      <td>0.0</td>\n",
       "      <td>0.0</td>\n",
       "      <td>0.000000</td>\n",
       "      <td>0.037126</td>\n",
       "      <td>7</td>\n",
       "    </tr>\n",
       "    <tr>\n",
       "      <th>10038</th>\n",
       "      <td>0.0</td>\n",
       "      <td>0.0</td>\n",
       "      <td>0.0</td>\n",
       "      <td>0.0</td>\n",
       "      <td>0.0</td>\n",
       "      <td>0.0</td>\n",
       "      <td>0.0</td>\n",
       "      <td>0.0</td>\n",
       "      <td>0.0</td>\n",
       "      <td>0.0</td>\n",
       "      <td>...</td>\n",
       "      <td>0.0</td>\n",
       "      <td>1.0</td>\n",
       "      <td>0.0</td>\n",
       "      <td>0.0</td>\n",
       "      <td>0.0</td>\n",
       "      <td>0.0</td>\n",
       "      <td>0.0</td>\n",
       "      <td>1.748768</td>\n",
       "      <td>2.274101</td>\n",
       "      <td>1</td>\n",
       "    </tr>\n",
       "    <tr>\n",
       "      <th>10039</th>\n",
       "      <td>0.0</td>\n",
       "      <td>0.0</td>\n",
       "      <td>0.0</td>\n",
       "      <td>0.0</td>\n",
       "      <td>0.0</td>\n",
       "      <td>0.0</td>\n",
       "      <td>0.0</td>\n",
       "      <td>0.0</td>\n",
       "      <td>0.0</td>\n",
       "      <td>0.0</td>\n",
       "      <td>...</td>\n",
       "      <td>0.0</td>\n",
       "      <td>0.0</td>\n",
       "      <td>0.0</td>\n",
       "      <td>0.0</td>\n",
       "      <td>1.0</td>\n",
       "      <td>0.0</td>\n",
       "      <td>0.0</td>\n",
       "      <td>-2.290640</td>\n",
       "      <td>0.154229</td>\n",
       "      <td>2</td>\n",
       "    </tr>\n",
       "    <tr>\n",
       "      <th>10040</th>\n",
       "      <td>0.0</td>\n",
       "      <td>0.0</td>\n",
       "      <td>0.0</td>\n",
       "      <td>0.0</td>\n",
       "      <td>0.0</td>\n",
       "      <td>0.0</td>\n",
       "      <td>0.0</td>\n",
       "      <td>0.0</td>\n",
       "      <td>0.0</td>\n",
       "      <td>0.0</td>\n",
       "      <td>...</td>\n",
       "      <td>0.0</td>\n",
       "      <td>0.0</td>\n",
       "      <td>1.0</td>\n",
       "      <td>0.0</td>\n",
       "      <td>0.0</td>\n",
       "      <td>0.0</td>\n",
       "      <td>0.0</td>\n",
       "      <td>0.886700</td>\n",
       "      <td>-0.447667</td>\n",
       "      <td>6</td>\n",
       "    </tr>\n",
       "  </tbody>\n",
       "</table>\n",
       "<p>10041 rows × 34 columns</p>\n",
       "</div>"
      ],
      "text/plain": [
       "         0    1    2    3    4    5    6    7    8    9  ...   24   25   26  \\\n",
       "0      0.0  0.0  0.0  0.0  0.0  0.0  0.0  0.0  0.0  0.0  ...  0.0  0.0  0.0   \n",
       "1      0.0  0.0  0.0  0.0  0.0  0.0  0.0  0.0  0.0  0.0  ...  0.0  0.0  0.0   \n",
       "2      0.0  0.0  0.0  0.0  0.0  0.0  0.0  0.0  0.0  0.0  ...  0.0  1.0  0.0   \n",
       "3      0.0  0.0  0.0  0.0  0.0  0.0  0.0  0.0  0.0  0.0  ...  0.0  0.0  1.0   \n",
       "4      0.0  0.0  0.0  0.0  0.0  0.0  0.0  0.0  0.0  0.0  ...  0.0  0.0  1.0   \n",
       "...    ...  ...  ...  ...  ...  ...  ...  ...  ...  ...  ...  ...  ...  ...   \n",
       "10036  0.0  0.0  0.0  0.0  0.0  0.0  0.0  0.0  0.0  0.0  ...  0.0  0.0  0.0   \n",
       "10037  0.0  0.0  0.0  0.0  0.0  0.0  0.0  0.0  0.0  0.0  ...  0.0  0.0  0.0   \n",
       "10038  0.0  0.0  0.0  0.0  0.0  0.0  0.0  0.0  0.0  0.0  ...  0.0  1.0  0.0   \n",
       "10039  0.0  0.0  0.0  0.0  0.0  0.0  0.0  0.0  0.0  0.0  ...  0.0  0.0  0.0   \n",
       "10040  0.0  0.0  0.0  0.0  0.0  0.0  0.0  0.0  0.0  0.0  ...  0.0  0.0  1.0   \n",
       "\n",
       "        27   28   29   30        31        32  labels  \n",
       "0      0.0  0.0  0.0  0.0  0.044335  1.046841       7  \n",
       "1      0.0  0.0  0.0  0.0 -0.726601 -0.215714       4  \n",
       "2      0.0  0.0  0.0  0.0  0.076355  0.262555       4  \n",
       "3      0.0  0.0  0.0  0.0  1.576355 -0.093823       6  \n",
       "4      0.0  0.0  0.0  0.0 -0.357143 -0.447667       3  \n",
       "...    ...  ...  ...  ...       ...       ...     ...  \n",
       "10036  0.0  1.0  0.0  0.0 -2.290640 -0.262274       2  \n",
       "10037  0.0  0.0  0.0  0.0  0.000000  0.037126       7  \n",
       "10038  0.0  0.0  0.0  0.0  1.748768  2.274101       1  \n",
       "10039  0.0  1.0  0.0  0.0 -2.290640  0.154229       2  \n",
       "10040  0.0  0.0  0.0  0.0  0.886700 -0.447667       6  \n",
       "\n",
       "[10041 rows x 34 columns]"
      ]
     },
     "execution_count": 373,
     "metadata": {},
     "output_type": "execute_result"
    }
   ],
   "source": [
    "df_encoded"
   ]
  },
  {
   "cell_type": "code",
   "execution_count": 374,
   "id": "67e2b80d-a2cf-4077-a0f4-d6f703cbe5c7",
   "metadata": {},
   "outputs": [
    {
     "data": {
      "text/plain": [
       "7    2036\n",
       "4    1882\n",
       "6    1512\n",
       "0    1401\n",
       "3     988\n",
       "1     958\n",
       "2     855\n",
       "5     409\n",
       "Name: labels, dtype: int64"
      ]
     },
     "execution_count": 374,
     "metadata": {},
     "output_type": "execute_result"
    }
   ],
   "source": [
    "df_encoded.labels.value_counts()"
   ]
  },
  {
   "cell_type": "code",
   "execution_count": 375,
   "id": "8ca06db9-7e35-426a-a7cf-e8a4601c4203",
   "metadata": {},
   "outputs": [
    {
     "data": {
      "text/plain": [
       "0         43920.00\n",
       "1         73566.00\n",
       "2         80154.00\n",
       "3         51880.50\n",
       "4         54894.51\n",
       "           ...    \n",
       "17929    101565.00\n",
       "17933     60390.00\n",
       "17942     43920.00\n",
       "17954     87840.00\n",
       "17963     54894.51\n",
       "Name: preco, Length: 10041, dtype: float64"
      ]
     },
     "execution_count": 375,
     "metadata": {},
     "output_type": "execute_result"
    }
   ],
   "source": [
    "df.preco"
   ]
  },
  {
   "cell_type": "code",
   "execution_count": 376,
   "id": "cc9dc800-9baf-47be-9cc8-3583ae74cb75",
   "metadata": {},
   "outputs": [],
   "source": [
    "focus_similares = df_encoded.assign(preco = df.preco.reset_index(drop=True))"
   ]
  },
  {
   "cell_type": "code",
   "execution_count": 377,
   "id": "bc13682b-0fa1-4267-863e-62698639e65d",
   "metadata": {},
   "outputs": [
    {
     "data": {
      "text/html": [
       "<div>\n",
       "<style scoped>\n",
       "    .dataframe tbody tr th:only-of-type {\n",
       "        vertical-align: middle;\n",
       "    }\n",
       "\n",
       "    .dataframe tbody tr th {\n",
       "        vertical-align: top;\n",
       "    }\n",
       "\n",
       "    .dataframe thead th {\n",
       "        text-align: right;\n",
       "    }\n",
       "</style>\n",
       "<table border=\"1\" class=\"dataframe\">\n",
       "  <thead>\n",
       "    <tr style=\"text-align: right;\">\n",
       "      <th></th>\n",
       "      <th>preco</th>\n",
       "    </tr>\n",
       "    <tr>\n",
       "      <th>labels</th>\n",
       "      <th></th>\n",
       "    </tr>\n",
       "  </thead>\n",
       "  <tbody>\n",
       "    <tr>\n",
       "      <th>0</th>\n",
       "      <td>14493.589000</td>\n",
       "    </tr>\n",
       "    <tr>\n",
       "      <th>1</th>\n",
       "      <td>13077.088395</td>\n",
       "    </tr>\n",
       "    <tr>\n",
       "      <th>2</th>\n",
       "      <td>28111.509237</td>\n",
       "    </tr>\n",
       "    <tr>\n",
       "      <th>3</th>\n",
       "      <td>19263.282806</td>\n",
       "    </tr>\n",
       "    <tr>\n",
       "      <th>4</th>\n",
       "      <td>15244.856032</td>\n",
       "    </tr>\n",
       "    <tr>\n",
       "      <th>5</th>\n",
       "      <td>12525.242845</td>\n",
       "    </tr>\n",
       "    <tr>\n",
       "      <th>6</th>\n",
       "      <td>16510.228089</td>\n",
       "    </tr>\n",
       "    <tr>\n",
       "      <th>7</th>\n",
       "      <td>15022.776436</td>\n",
       "    </tr>\n",
       "  </tbody>\n",
       "</table>\n",
       "</div>"
      ],
      "text/plain": [
       "               preco\n",
       "labels              \n",
       "0       14493.589000\n",
       "1       13077.088395\n",
       "2       28111.509237\n",
       "3       19263.282806\n",
       "4       15244.856032\n",
       "5       12525.242845\n",
       "6       16510.228089\n",
       "7       15022.776436"
      ]
     },
     "execution_count": 377,
     "metadata": {},
     "output_type": "execute_result"
    }
   ],
   "source": [
    "focus_similares[['labels','preco']].groupby('labels').std()"
   ]
  },
  {
   "cell_type": "code",
   "execution_count": 378,
   "id": "1182e087-8a9d-433b-b74f-c8b9c8ee1d80",
   "metadata": {},
   "outputs": [
    {
     "data": {
      "text/plain": [
       "(array([1.002e+03, 3.360e+02, 5.600e+01, 4.000e+00, 2.000e+00, 0.000e+00,\n",
       "        0.000e+00, 0.000e+00, 0.000e+00, 1.000e+00]),\n",
       " array([ 54625.5  ,  79355.205, 104084.91 , 128814.615, 153544.32 ,\n",
       "        178274.025, 203003.73 , 227733.435, 252463.14 , 277192.845,\n",
       "        301922.55 ]),\n",
       " <BarContainer object of 10 artists>)"
      ]
     },
     "execution_count": 378,
     "metadata": {},
     "output_type": "execute_result"
    },
    {
     "data": {
      "image/png": "[encoded data removed]",
      "text/plain": [
       "<Figure size 432x288 with 1 Axes>"
      ]
     },
     "metadata": {
      "needs_background": "light"
     },
     "output_type": "display_data"
    }
   ],
   "source": [
    "plt.hist(focus_similares[['labels','preco']].query(\"labels == 0\").preco)"
   ]
  },
  {
   "cell_type": "markdown",
   "id": "910e21e3-5479-47d2-982a-dc866b6817a1",
   "metadata": {},
   "source": [
    "## Modelo de Regressão"
   ]
  },
  {
   "cell_type": "code",
   "execution_count": 379,
   "id": "fac6ba7a-fa33-4d2f-a1d3-ea1f527cddbe",
   "metadata": {},
   "outputs": [],
   "source": [
    "x = df.drop(['model','preco'],axis=1)\n",
    "y = df.preco"
   ]
  },
  {
   "cell_type": "code",
   "execution_count": 380,
   "id": "935c664f-fb72-4dea-9046-00ebab7620e4",
   "metadata": {},
   "outputs": [],
   "source": [
    "x_train, x_test, y_train, y_test = train_test_split(x,y,random_state=42,test_size=0.2)"
   ]
  },
  {
   "cell_type": "code",
   "execution_count": 381,
   "id": "88a8b288-ffe8-4a2f-848d-6b709985e6e4",
   "metadata": {},
   "outputs": [
    {
     "data": {
      "text/html": [
       "<style>#sk-390e0bc1-0c33-4fe3-8d18-3f7909308724 {color: black;background-color: white;}#sk-390e0bc1-0c33-4fe3-8d18-3f7909308724 pre{padding: 0;}#sk-390e0bc1-0c33-4fe3-8d18-3f7909308724 div.sk-toggleable {background-color: white;}#sk-390e0bc1-0c33-4fe3-8d18-3f7909308724 label.sk-toggleable__label {cursor: pointer;display: block;width: 100%;margin-bottom: 0;padding: 0.3em;box-sizing: border-box;text-align: center;}#sk-390e0bc1-0c33-4fe3-8d18-3f7909308724 label.sk-toggleable__label-arrow:before {content: \"▸\";float: left;margin-right: 0.25em;color: #696969;}#sk-390e0bc1-0c33-4fe3-8d18-3f7909308724 label.sk-toggleable__label-arrow:hover:before {color: black;}#sk-390e0bc1-0c33-4fe3-8d18-3f7909308724 div.sk-estimator:hover label.sk-toggleable__label-arrow:before {color: black;}#sk-390e0bc1-0c33-4fe3-8d18-3f7909308724 div.sk-toggleable__content {max-height: 0;max-width: 0;overflow: hidden;text-align: left;background-color: #f0f8ff;}#sk-390e0bc1-0c33-4fe3-8d18-3f7909308724 div.sk-toggleable__content pre {margin: 0.2em;color: black;border-radius: 0.25em;background-color: #f0f8ff;}#sk-390e0bc1-0c33-4fe3-8d18-3f7909308724 input.sk-toggleable__control:checked~div.sk-toggleable__content {max-height: 200px;max-width: 100%;overflow: auto;}#sk-390e0bc1-0c33-4fe3-8d18-3f7909308724 input.sk-toggleable__control:checked~label.sk-toggleable__label-arrow:before {content: \"▾\";}#sk-390e0bc1-0c33-4fe3-8d18-3f7909308724 div.sk-estimator input.sk-toggleable__control:checked~label.sk-toggleable__label {background-color: #d4ebff;}#sk-390e0bc1-0c33-4fe3-8d18-3f7909308724 div.sk-label input.sk-toggleable__control:checked~label.sk-toggleable__label {background-color: #d4ebff;}#sk-390e0bc1-0c33-4fe3-8d18-3f7909308724 input.sk-hidden--visually {border: 0;clip: rect(1px 1px 1px 1px);clip: rect(1px, 1px, 1px, 1px);height: 1px;margin: -1px;overflow: hidden;padding: 0;position: absolute;width: 1px;}#sk-390e0bc1-0c33-4fe3-8d18-3f7909308724 div.sk-estimator {font-family: monospace;background-color: #f0f8ff;border: 1px dotted black;border-radius: 0.25em;box-sizing: border-box;margin-bottom: 0.5em;}#sk-390e0bc1-0c33-4fe3-8d18-3f7909308724 div.sk-estimator:hover {background-color: #d4ebff;}#sk-390e0bc1-0c33-4fe3-8d18-3f7909308724 div.sk-parallel-item::after {content: \"\";width: 100%;border-bottom: 1px solid gray;flex-grow: 1;}#sk-390e0bc1-0c33-4fe3-8d18-3f7909308724 div.sk-label:hover label.sk-toggleable__label {background-color: #d4ebff;}#sk-390e0bc1-0c33-4fe3-8d18-3f7909308724 div.sk-serial::before {content: \"\";position: absolute;border-left: 1px solid gray;box-sizing: border-box;top: 2em;bottom: 0;left: 50%;}#sk-390e0bc1-0c33-4fe3-8d18-3f7909308724 div.sk-serial {display: flex;flex-direction: column;align-items: center;background-color: white;padding-right: 0.2em;padding-left: 0.2em;}#sk-390e0bc1-0c33-4fe3-8d18-3f7909308724 div.sk-item {z-index: 1;}#sk-390e0bc1-0c33-4fe3-8d18-3f7909308724 div.sk-parallel {display: flex;align-items: stretch;justify-content: center;background-color: white;}#sk-390e0bc1-0c33-4fe3-8d18-3f7909308724 div.sk-parallel::before {content: \"\";position: absolute;border-left: 1px solid gray;box-sizing: border-box;top: 2em;bottom: 0;left: 50%;}#sk-390e0bc1-0c33-4fe3-8d18-3f7909308724 div.sk-parallel-item {display: flex;flex-direction: column;position: relative;background-color: white;}#sk-390e0bc1-0c33-4fe3-8d18-3f7909308724 div.sk-parallel-item:first-child::after {align-self: flex-end;width: 50%;}#sk-390e0bc1-0c33-4fe3-8d18-3f7909308724 div.sk-parallel-item:last-child::after {align-self: flex-start;width: 50%;}#sk-390e0bc1-0c33-4fe3-8d18-3f7909308724 div.sk-parallel-item:only-child::after {width: 0;}#sk-390e0bc1-0c33-4fe3-8d18-3f7909308724 div.sk-dashed-wrapped {border: 1px dashed gray;margin: 0 0.4em 0.5em 0.4em;box-sizing: border-box;padding-bottom: 0.4em;background-color: white;position: relative;}#sk-390e0bc1-0c33-4fe3-8d18-3f7909308724 div.sk-label label {font-family: monospace;font-weight: bold;background-color: white;display: inline-block;line-height: 1.2em;}#sk-390e0bc1-0c33-4fe3-8d18-3f7909308724 div.sk-label-container {position: relative;z-index: 2;text-align: center;}#sk-390e0bc1-0c33-4fe3-8d18-3f7909308724 div.sk-container {/* jupyter's `normalize.less` sets `[hidden] { display: none; }` but bootstrap.min.css set `[hidden] { display: none !important; }` so we also need the `!important` here to be able to override the default hidden behavior on the sphinx rendered scikit-learn.org. See: https://github.com/scikit-learn/scikit-learn/issues/21755 */display: inline-block !important;position: relative;}#sk-390e0bc1-0c33-4fe3-8d18-3f7909308724 div.sk-text-repr-fallback {display: none;}</style><div id=\"sk-390e0bc1-0c33-4fe3-8d18-3f7909308724\" class=\"sk-top-container\"><div class=\"sk-text-repr-fallback\"><pre>ColumnTransformer(transformers=[(&#x27;pipeline-1&#x27;,\n",
       "                                 Pipeline(steps=[(&#x27;onehotencoder&#x27;,\n",
       "                                                  OneHotEncoder(handle_unknown=&#x27;ignore&#x27;))]),\n",
       "                                 [&#x27;year&#x27;, &#x27;transmission&#x27;, &#x27;fuelType&#x27;,\n",
       "                                  &#x27;engineSize&#x27;]),\n",
       "                                (&#x27;pipeline-2&#x27;,\n",
       "                                 Pipeline(steps=[(&#x27;knnimputer&#x27;, KNNImputer()),\n",
       "                                                 (&#x27;robustscaler&#x27;,\n",
       "                                                  RobustScaler())]),\n",
       "                                 [&#x27;kml&#x27;, &#x27;kilometragem&#x27;])])</pre><b>Please rerun this cell to show the HTML repr or trust the notebook.</b></div><div class=\"sk-container\" hidden><div class=\"sk-item sk-dashed-wrapped\"><div class=\"sk-label-container\"><div class=\"sk-label sk-toggleable\"><input class=\"sk-toggleable__control sk-hidden--visually\" id=\"58f819ea-1880-4559-8d21-b5a0c25c8b8e\" type=\"checkbox\" ><label for=\"58f819ea-1880-4559-8d21-b5a0c25c8b8e\" class=\"sk-toggleable__label sk-toggleable__label-arrow\">ColumnTransformer</label><div class=\"sk-toggleable__content\"><pre>ColumnTransformer(transformers=[(&#x27;pipeline-1&#x27;,\n",
       "                                 Pipeline(steps=[(&#x27;onehotencoder&#x27;,\n",
       "                                                  OneHotEncoder(handle_unknown=&#x27;ignore&#x27;))]),\n",
       "                                 [&#x27;year&#x27;, &#x27;transmission&#x27;, &#x27;fuelType&#x27;,\n",
       "                                  &#x27;engineSize&#x27;]),\n",
       "                                (&#x27;pipeline-2&#x27;,\n",
       "                                 Pipeline(steps=[(&#x27;knnimputer&#x27;, KNNImputer()),\n",
       "                                                 (&#x27;robustscaler&#x27;,\n",
       "                                                  RobustScaler())]),\n",
       "                                 [&#x27;kml&#x27;, &#x27;kilometragem&#x27;])])</pre></div></div></div><div class=\"sk-parallel\"><div class=\"sk-parallel-item\"><div class=\"sk-item\"><div class=\"sk-label-container\"><div class=\"sk-label sk-toggleable\"><input class=\"sk-toggleable__control sk-hidden--visually\" id=\"2459f76c-c33c-479e-bce0-0479f928ba1e\" type=\"checkbox\" ><label for=\"2459f76c-c33c-479e-bce0-0479f928ba1e\" class=\"sk-toggleable__label sk-toggleable__label-arrow\">pipeline-1</label><div class=\"sk-toggleable__content\"><pre>[&#x27;year&#x27;, &#x27;transmission&#x27;, &#x27;fuelType&#x27;, &#x27;engineSize&#x27;]</pre></div></div></div><div class=\"sk-serial\"><div class=\"sk-item\"><div class=\"sk-serial\"><div class=\"sk-item\"><div class=\"sk-estimator sk-toggleable\"><input class=\"sk-toggleable__control sk-hidden--visually\" id=\"e278b4a0-a706-42a4-af4e-56b1edeec079\" type=\"checkbox\" ><label for=\"e278b4a0-a706-42a4-af4e-56b1edeec079\" class=\"sk-toggleable__label sk-toggleable__label-arrow\">OneHotEncoder</label><div class=\"sk-toggleable__content\"><pre>OneHotEncoder(handle_unknown=&#x27;ignore&#x27;)</pre></div></div></div></div></div></div></div></div><div class=\"sk-parallel-item\"><div class=\"sk-item\"><div class=\"sk-label-container\"><div class=\"sk-label sk-toggleable\"><input class=\"sk-toggleable__control sk-hidden--visually\" id=\"53b0829b-9fd4-4597-abd1-f23d22cbcaeb\" type=\"checkbox\" ><label for=\"53b0829b-9fd4-4597-abd1-f23d22cbcaeb\" class=\"sk-toggleable__label sk-toggleable__label-arrow\">pipeline-2</label><div class=\"sk-toggleable__content\"><pre>[&#x27;kml&#x27;, &#x27;kilometragem&#x27;]</pre></div></div></div><div class=\"sk-serial\"><div class=\"sk-item\"><div class=\"sk-serial\"><div class=\"sk-item\"><div class=\"sk-estimator sk-toggleable\"><input class=\"sk-toggleable__control sk-hidden--visually\" id=\"f04dd76f-478d-4bc0-b61d-9a874e0d04b9\" type=\"checkbox\" ><label for=\"f04dd76f-478d-4bc0-b61d-9a874e0d04b9\" class=\"sk-toggleable__label sk-toggleable__label-arrow\">KNNImputer</label><div class=\"sk-toggleable__content\"><pre>KNNImputer()</pre></div></div></div><div class=\"sk-item\"><div class=\"sk-estimator sk-toggleable\"><input class=\"sk-toggleable__control sk-hidden--visually\" id=\"b1276802-d51e-457c-bff8-b93c0533b388\" type=\"checkbox\" ><label for=\"b1276802-d51e-457c-bff8-b93c0533b388\" class=\"sk-toggleable__label sk-toggleable__label-arrow\">RobustScaler</label><div class=\"sk-toggleable__content\"><pre>RobustScaler()</pre></div></div></div></div></div></div></div></div></div></div></div></div>"
      ],
      "text/plain": [
       "ColumnTransformer(transformers=[('pipeline-1',\n",
       "                                 Pipeline(steps=[('onehotencoder',\n",
       "                                                  OneHotEncoder(handle_unknown='ignore'))]),\n",
       "                                 ['year', 'transmission', 'fuelType',\n",
       "                                  'engineSize']),\n",
       "                                ('pipeline-2',\n",
       "                                 Pipeline(steps=[('knnimputer', KNNImputer()),\n",
       "                                                 ('robustscaler',\n",
       "                                                  RobustScaler())]),\n",
       "                                 ['kml', 'kilometragem'])])"
      ]
     },
     "execution_count": 381,
     "metadata": {},
     "output_type": "execute_result"
    }
   ],
   "source": [
    "col_transf.fit(x_train,y_train)"
   ]
  },
  {
   "cell_type": "code",
   "execution_count": 382,
   "id": "657523a4-0c91-429d-9fbe-e0cd26eb5850",
   "metadata": {},
   "outputs": [],
   "source": [
    "x_train_encoded = col_transf.transform(x_train)\n",
    "x_test_encoded  = col_transf.transform(x_test)"
   ]
  },
  {
   "cell_type": "code",
   "execution_count": 406,
   "id": "170559cd-8c70-44a8-b879-db34f031815c",
   "metadata": {},
   "outputs": [],
   "source": [
    "model = GradientBoostingRegressor(random_state=42,min_samples_leaf=30)"
   ]
  },
  {
   "cell_type": "code",
   "execution_count": 407,
   "id": "f4961f10-f226-4515-9445-3fc9abc5a56b",
   "metadata": {},
   "outputs": [
    {
     "data": {
      "text/html": [
       "<style>#sk-aada24a0-d35e-4772-ac09-9356b79f5d26 {color: black;background-color: white;}#sk-aada24a0-d35e-4772-ac09-9356b79f5d26 pre{padding: 0;}#sk-aada24a0-d35e-4772-ac09-9356b79f5d26 div.sk-toggleable {background-color: white;}#sk-aada24a0-d35e-4772-ac09-9356b79f5d26 label.sk-toggleable__label {cursor: pointer;display: block;width: 100%;margin-bottom: 0;padding: 0.3em;box-sizing: border-box;text-align: center;}#sk-aada24a0-d35e-4772-ac09-9356b79f5d26 label.sk-toggleable__label-arrow:before {content: \"▸\";float: left;margin-right: 0.25em;color: #696969;}#sk-aada24a0-d35e-4772-ac09-9356b79f5d26 label.sk-toggleable__label-arrow:hover:before {color: black;}#sk-aada24a0-d35e-4772-ac09-9356b79f5d26 div.sk-estimator:hover label.sk-toggleable__label-arrow:before {color: black;}#sk-aada24a0-d35e-4772-ac09-9356b79f5d26 div.sk-toggleable__content {max-height: 0;max-width: 0;overflow: hidden;text-align: left;background-color: #f0f8ff;}#sk-aada24a0-d35e-4772-ac09-9356b79f5d26 div.sk-toggleable__content pre {margin: 0.2em;color: black;border-radius: 0.25em;background-color: #f0f8ff;}#sk-aada24a0-d35e-4772-ac09-9356b79f5d26 input.sk-toggleable__control:checked~div.sk-toggleable__content {max-height: 200px;max-width: 100%;overflow: auto;}#sk-aada24a0-d35e-4772-ac09-9356b79f5d26 input.sk-toggleable__control:checked~label.sk-toggleable__label-arrow:before {content: \"▾\";}#sk-aada24a0-d35e-4772-ac09-9356b79f5d26 div.sk-estimator input.sk-toggleable__control:checked~label.sk-toggleable__label {background-color: #d4ebff;}#sk-aada24a0-d35e-4772-ac09-9356b79f5d26 div.sk-label input.sk-toggleable__control:checked~label.sk-toggleable__label {background-color: #d4ebff;}#sk-aada24a0-d35e-4772-ac09-9356b79f5d26 input.sk-hidden--visually {border: 0;clip: rect(1px 1px 1px 1px);clip: rect(1px, 1px, 1px, 1px);height: 1px;margin: -1px;overflow: hidden;padding: 0;position: absolute;width: 1px;}#sk-aada24a0-d35e-4772-ac09-9356b79f5d26 div.sk-estimator {font-family: monospace;background-color: #f0f8ff;border: 1px dotted black;border-radius: 0.25em;box-sizing: border-box;margin-bottom: 0.5em;}#sk-aada24a0-d35e-4772-ac09-9356b79f5d26 div.sk-estimator:hover {background-color: #d4ebff;}#sk-aada24a0-d35e-4772-ac09-9356b79f5d26 div.sk-parallel-item::after {content: \"\";width: 100%;border-bottom: 1px solid gray;flex-grow: 1;}#sk-aada24a0-d35e-4772-ac09-9356b79f5d26 div.sk-label:hover label.sk-toggleable__label {background-color: #d4ebff;}#sk-aada24a0-d35e-4772-ac09-9356b79f5d26 div.sk-serial::before {content: \"\";position: absolute;border-left: 1px solid gray;box-sizing: border-box;top: 2em;bottom: 0;left: 50%;}#sk-aada24a0-d35e-4772-ac09-9356b79f5d26 div.sk-serial {display: flex;flex-direction: column;align-items: center;background-color: white;padding-right: 0.2em;padding-left: 0.2em;}#sk-aada24a0-d35e-4772-ac09-9356b79f5d26 div.sk-item {z-index: 1;}#sk-aada24a0-d35e-4772-ac09-9356b79f5d26 div.sk-parallel {display: flex;align-items: stretch;justify-content: center;background-color: white;}#sk-aada24a0-d35e-4772-ac09-9356b79f5d26 div.sk-parallel::before {content: \"\";position: absolute;border-left: 1px solid gray;box-sizing: border-box;top: 2em;bottom: 0;left: 50%;}#sk-aada24a0-d35e-4772-ac09-9356b79f5d26 div.sk-parallel-item {display: flex;flex-direction: column;position: relative;background-color: white;}#sk-aada24a0-d35e-4772-ac09-9356b79f5d26 div.sk-parallel-item:first-child::after {align-self: flex-end;width: 50%;}#sk-aada24a0-d35e-4772-ac09-9356b79f5d26 div.sk-parallel-item:last-child::after {align-self: flex-start;width: 50%;}#sk-aada24a0-d35e-4772-ac09-9356b79f5d26 div.sk-parallel-item:only-child::after {width: 0;}#sk-aada24a0-d35e-4772-ac09-9356b79f5d26 div.sk-dashed-wrapped {border: 1px dashed gray;margin: 0 0.4em 0.5em 0.4em;box-sizing: border-box;padding-bottom: 0.4em;background-color: white;position: relative;}#sk-aada24a0-d35e-4772-ac09-9356b79f5d26 div.sk-label label {font-family: monospace;font-weight: bold;background-color: white;display: inline-block;line-height: 1.2em;}#sk-aada24a0-d35e-4772-ac09-9356b79f5d26 div.sk-label-container {position: relative;z-index: 2;text-align: center;}#sk-aada24a0-d35e-4772-ac09-9356b79f5d26 div.sk-container {/* jupyter's `normalize.less` sets `[hidden] { display: none; }` but bootstrap.min.css set `[hidden] { display: none !important; }` so we also need the `!important` here to be able to override the default hidden behavior on the sphinx rendered scikit-learn.org. See: https://github.com/scikit-learn/scikit-learn/issues/21755 */display: inline-block !important;position: relative;}#sk-aada24a0-d35e-4772-ac09-9356b79f5d26 div.sk-text-repr-fallback {display: none;}</style><div id=\"sk-aada24a0-d35e-4772-ac09-9356b79f5d26\" class=\"sk-top-container\"><div class=\"sk-text-repr-fallback\"><pre>GradientBoostingRegressor(min_samples_leaf=30, random_state=42)</pre><b>Please rerun this cell to show the HTML repr or trust the notebook.</b></div><div class=\"sk-container\" hidden><div class=\"sk-item\"><div class=\"sk-estimator sk-toggleable\"><input class=\"sk-toggleable__control sk-hidden--visually\" id=\"8ef37ca5-aa08-48d1-b089-37d654af3a14\" type=\"checkbox\" checked><label for=\"8ef37ca5-aa08-48d1-b089-37d654af3a14\" class=\"sk-toggleable__label sk-toggleable__label-arrow\">GradientBoostingRegressor</label><div class=\"sk-toggleable__content\"><pre>GradientBoostingRegressor(min_samples_leaf=30, random_state=42)</pre></div></div></div></div></div>"
      ],
      "text/plain": [
       "GradientBoostingRegressor(min_samples_leaf=30, random_state=42)"
      ]
     },
     "execution_count": 407,
     "metadata": {},
     "output_type": "execute_result"
    }
   ],
   "source": [
    "model.fit(x_train_encoded,y_train)"
   ]
  },
  {
   "cell_type": "code",
   "execution_count": 408,
   "id": "4b61d192-6899-4c72-aa63-85c539774f54",
   "metadata": {},
   "outputs": [
    {
     "data": {
      "text/plain": [
       "0.9154691276408198"
      ]
     },
     "execution_count": 408,
     "metadata": {},
     "output_type": "execute_result"
    }
   ],
   "source": [
    "model.score(x_test_encoded,y_test)"
   ]
  },
  {
   "cell_type": "code",
   "execution_count": 409,
   "id": "b137112b-4edb-4f5f-9b1f-c3ac93c9eb3a",
   "metadata": {},
   "outputs": [
    {
     "data": {
      "text/html": [
       "<div>\n",
       "<style scoped>\n",
       "    .dataframe tbody tr th:only-of-type {\n",
       "        vertical-align: middle;\n",
       "    }\n",
       "\n",
       "    .dataframe tbody tr th {\n",
       "        vertical-align: top;\n",
       "    }\n",
       "\n",
       "    .dataframe thead th {\n",
       "        text-align: right;\n",
       "    }\n",
       "</style>\n",
       "<table border=\"1\" class=\"dataframe\">\n",
       "  <thead>\n",
       "    <tr style=\"text-align: right;\">\n",
       "      <th></th>\n",
       "      <th>0</th>\n",
       "      <th>1</th>\n",
       "      <th>2</th>\n",
       "      <th>3</th>\n",
       "      <th>4</th>\n",
       "      <th>5</th>\n",
       "      <th>6</th>\n",
       "      <th>7</th>\n",
       "      <th>8</th>\n",
       "      <th>9</th>\n",
       "      <th>...</th>\n",
       "      <th>25</th>\n",
       "      <th>26</th>\n",
       "      <th>27</th>\n",
       "      <th>28</th>\n",
       "      <th>29</th>\n",
       "      <th>30</th>\n",
       "      <th>31</th>\n",
       "      <th>32</th>\n",
       "      <th>labels</th>\n",
       "      <th>preco</th>\n",
       "    </tr>\n",
       "  </thead>\n",
       "  <tbody>\n",
       "    <tr>\n",
       "      <th>0</th>\n",
       "      <td>0.0</td>\n",
       "      <td>0.0</td>\n",
       "      <td>0.0</td>\n",
       "      <td>0.0</td>\n",
       "      <td>0.0</td>\n",
       "      <td>0.0</td>\n",
       "      <td>0.0</td>\n",
       "      <td>0.0</td>\n",
       "      <td>0.0</td>\n",
       "      <td>0.0</td>\n",
       "      <td>...</td>\n",
       "      <td>0.0</td>\n",
       "      <td>0.0</td>\n",
       "      <td>0.0</td>\n",
       "      <td>0.0</td>\n",
       "      <td>0.0</td>\n",
       "      <td>0.0</td>\n",
       "      <td>0.044335</td>\n",
       "      <td>1.046841</td>\n",
       "      <td>7</td>\n",
       "      <td>43920.00</td>\n",
       "    </tr>\n",
       "    <tr>\n",
       "      <th>1</th>\n",
       "      <td>0.0</td>\n",
       "      <td>0.0</td>\n",
       "      <td>0.0</td>\n",
       "      <td>0.0</td>\n",
       "      <td>0.0</td>\n",
       "      <td>0.0</td>\n",
       "      <td>0.0</td>\n",
       "      <td>0.0</td>\n",
       "      <td>0.0</td>\n",
       "      <td>0.0</td>\n",
       "      <td>...</td>\n",
       "      <td>0.0</td>\n",
       "      <td>0.0</td>\n",
       "      <td>0.0</td>\n",
       "      <td>0.0</td>\n",
       "      <td>0.0</td>\n",
       "      <td>0.0</td>\n",
       "      <td>-0.726601</td>\n",
       "      <td>-0.215714</td>\n",
       "      <td>4</td>\n",
       "      <td>73566.00</td>\n",
       "    </tr>\n",
       "    <tr>\n",
       "      <th>2</th>\n",
       "      <td>0.0</td>\n",
       "      <td>0.0</td>\n",
       "      <td>0.0</td>\n",
       "      <td>0.0</td>\n",
       "      <td>0.0</td>\n",
       "      <td>0.0</td>\n",
       "      <td>0.0</td>\n",
       "      <td>0.0</td>\n",
       "      <td>0.0</td>\n",
       "      <td>0.0</td>\n",
       "      <td>...</td>\n",
       "      <td>1.0</td>\n",
       "      <td>0.0</td>\n",
       "      <td>0.0</td>\n",
       "      <td>0.0</td>\n",
       "      <td>0.0</td>\n",
       "      <td>0.0</td>\n",
       "      <td>0.076355</td>\n",
       "      <td>0.262555</td>\n",
       "      <td>4</td>\n",
       "      <td>80154.00</td>\n",
       "    </tr>\n",
       "    <tr>\n",
       "      <th>3</th>\n",
       "      <td>0.0</td>\n",
       "      <td>0.0</td>\n",
       "      <td>0.0</td>\n",
       "      <td>0.0</td>\n",
       "      <td>0.0</td>\n",
       "      <td>0.0</td>\n",
       "      <td>0.0</td>\n",
       "      <td>0.0</td>\n",
       "      <td>0.0</td>\n",
       "      <td>0.0</td>\n",
       "      <td>...</td>\n",
       "      <td>0.0</td>\n",
       "      <td>1.0</td>\n",
       "      <td>0.0</td>\n",
       "      <td>0.0</td>\n",
       "      <td>0.0</td>\n",
       "      <td>0.0</td>\n",
       "      <td>1.576355</td>\n",
       "      <td>-0.093823</td>\n",
       "      <td>6</td>\n",
       "      <td>51880.50</td>\n",
       "    </tr>\n",
       "    <tr>\n",
       "      <th>4</th>\n",
       "      <td>0.0</td>\n",
       "      <td>0.0</td>\n",
       "      <td>0.0</td>\n",
       "      <td>0.0</td>\n",
       "      <td>0.0</td>\n",
       "      <td>0.0</td>\n",
       "      <td>0.0</td>\n",
       "      <td>0.0</td>\n",
       "      <td>0.0</td>\n",
       "      <td>0.0</td>\n",
       "      <td>...</td>\n",
       "      <td>0.0</td>\n",
       "      <td>1.0</td>\n",
       "      <td>0.0</td>\n",
       "      <td>0.0</td>\n",
       "      <td>0.0</td>\n",
       "      <td>0.0</td>\n",
       "      <td>-0.357143</td>\n",
       "      <td>-0.447667</td>\n",
       "      <td>3</td>\n",
       "      <td>54894.51</td>\n",
       "    </tr>\n",
       "    <tr>\n",
       "      <th>...</th>\n",
       "      <td>...</td>\n",
       "      <td>...</td>\n",
       "      <td>...</td>\n",
       "      <td>...</td>\n",
       "      <td>...</td>\n",
       "      <td>...</td>\n",
       "      <td>...</td>\n",
       "      <td>...</td>\n",
       "      <td>...</td>\n",
       "      <td>...</td>\n",
       "      <td>...</td>\n",
       "      <td>...</td>\n",
       "      <td>...</td>\n",
       "      <td>...</td>\n",
       "      <td>...</td>\n",
       "      <td>...</td>\n",
       "      <td>...</td>\n",
       "      <td>...</td>\n",
       "      <td>...</td>\n",
       "      <td>...</td>\n",
       "      <td>...</td>\n",
       "    </tr>\n",
       "    <tr>\n",
       "      <th>10036</th>\n",
       "      <td>0.0</td>\n",
       "      <td>0.0</td>\n",
       "      <td>0.0</td>\n",
       "      <td>0.0</td>\n",
       "      <td>0.0</td>\n",
       "      <td>0.0</td>\n",
       "      <td>0.0</td>\n",
       "      <td>0.0</td>\n",
       "      <td>0.0</td>\n",
       "      <td>0.0</td>\n",
       "      <td>...</td>\n",
       "      <td>0.0</td>\n",
       "      <td>0.0</td>\n",
       "      <td>0.0</td>\n",
       "      <td>1.0</td>\n",
       "      <td>0.0</td>\n",
       "      <td>0.0</td>\n",
       "      <td>-2.290640</td>\n",
       "      <td>-0.262274</td>\n",
       "      <td>2</td>\n",
       "      <td>101565.00</td>\n",
       "    </tr>\n",
       "    <tr>\n",
       "      <th>10037</th>\n",
       "      <td>0.0</td>\n",
       "      <td>0.0</td>\n",
       "      <td>0.0</td>\n",
       "      <td>0.0</td>\n",
       "      <td>0.0</td>\n",
       "      <td>0.0</td>\n",
       "      <td>0.0</td>\n",
       "      <td>0.0</td>\n",
       "      <td>0.0</td>\n",
       "      <td>0.0</td>\n",
       "      <td>...</td>\n",
       "      <td>0.0</td>\n",
       "      <td>0.0</td>\n",
       "      <td>0.0</td>\n",
       "      <td>0.0</td>\n",
       "      <td>0.0</td>\n",
       "      <td>0.0</td>\n",
       "      <td>0.000000</td>\n",
       "      <td>0.037126</td>\n",
       "      <td>7</td>\n",
       "      <td>60390.00</td>\n",
       "    </tr>\n",
       "    <tr>\n",
       "      <th>10038</th>\n",
       "      <td>0.0</td>\n",
       "      <td>0.0</td>\n",
       "      <td>0.0</td>\n",
       "      <td>0.0</td>\n",
       "      <td>0.0</td>\n",
       "      <td>0.0</td>\n",
       "      <td>0.0</td>\n",
       "      <td>0.0</td>\n",
       "      <td>0.0</td>\n",
       "      <td>0.0</td>\n",
       "      <td>...</td>\n",
       "      <td>1.0</td>\n",
       "      <td>0.0</td>\n",
       "      <td>0.0</td>\n",
       "      <td>0.0</td>\n",
       "      <td>0.0</td>\n",
       "      <td>0.0</td>\n",
       "      <td>1.748768</td>\n",
       "      <td>2.274101</td>\n",
       "      <td>1</td>\n",
       "      <td>43920.00</td>\n",
       "    </tr>\n",
       "    <tr>\n",
       "      <th>10039</th>\n",
       "      <td>0.0</td>\n",
       "      <td>0.0</td>\n",
       "      <td>0.0</td>\n",
       "      <td>0.0</td>\n",
       "      <td>0.0</td>\n",
       "      <td>0.0</td>\n",
       "      <td>0.0</td>\n",
       "      <td>0.0</td>\n",
       "      <td>0.0</td>\n",
       "      <td>0.0</td>\n",
       "      <td>...</td>\n",
       "      <td>0.0</td>\n",
       "      <td>0.0</td>\n",
       "      <td>0.0</td>\n",
       "      <td>1.0</td>\n",
       "      <td>0.0</td>\n",
       "      <td>0.0</td>\n",
       "      <td>-2.290640</td>\n",
       "      <td>0.154229</td>\n",
       "      <td>2</td>\n",
       "      <td>87840.00</td>\n",
       "    </tr>\n",
       "    <tr>\n",
       "      <th>10040</th>\n",
       "      <td>0.0</td>\n",
       "      <td>0.0</td>\n",
       "      <td>0.0</td>\n",
       "      <td>0.0</td>\n",
       "      <td>0.0</td>\n",
       "      <td>0.0</td>\n",
       "      <td>0.0</td>\n",
       "      <td>0.0</td>\n",
       "      <td>0.0</td>\n",
       "      <td>0.0</td>\n",
       "      <td>...</td>\n",
       "      <td>0.0</td>\n",
       "      <td>1.0</td>\n",
       "      <td>0.0</td>\n",
       "      <td>0.0</td>\n",
       "      <td>0.0</td>\n",
       "      <td>0.0</td>\n",
       "      <td>0.886700</td>\n",
       "      <td>-0.447667</td>\n",
       "      <td>6</td>\n",
       "      <td>54894.51</td>\n",
       "    </tr>\n",
       "  </tbody>\n",
       "</table>\n",
       "<p>10041 rows × 35 columns</p>\n",
       "</div>"
      ],
      "text/plain": [
       "         0    1    2    3    4    5    6    7    8    9  ...   25   26   27  \\\n",
       "0      0.0  0.0  0.0  0.0  0.0  0.0  0.0  0.0  0.0  0.0  ...  0.0  0.0  0.0   \n",
       "1      0.0  0.0  0.0  0.0  0.0  0.0  0.0  0.0  0.0  0.0  ...  0.0  0.0  0.0   \n",
       "2      0.0  0.0  0.0  0.0  0.0  0.0  0.0  0.0  0.0  0.0  ...  1.0  0.0  0.0   \n",
       "3      0.0  0.0  0.0  0.0  0.0  0.0  0.0  0.0  0.0  0.0  ...  0.0  1.0  0.0   \n",
       "4      0.0  0.0  0.0  0.0  0.0  0.0  0.0  0.0  0.0  0.0  ...  0.0  1.0  0.0   \n",
       "...    ...  ...  ...  ...  ...  ...  ...  ...  ...  ...  ...  ...  ...  ...   \n",
       "10036  0.0  0.0  0.0  0.0  0.0  0.0  0.0  0.0  0.0  0.0  ...  0.0  0.0  0.0   \n",
       "10037  0.0  0.0  0.0  0.0  0.0  0.0  0.0  0.0  0.0  0.0  ...  0.0  0.0  0.0   \n",
       "10038  0.0  0.0  0.0  0.0  0.0  0.0  0.0  0.0  0.0  0.0  ...  1.0  0.0  0.0   \n",
       "10039  0.0  0.0  0.0  0.0  0.0  0.0  0.0  0.0  0.0  0.0  ...  0.0  0.0  0.0   \n",
       "10040  0.0  0.0  0.0  0.0  0.0  0.0  0.0  0.0  0.0  0.0  ...  0.0  1.0  0.0   \n",
       "\n",
       "        28   29   30        31        32  labels      preco  \n",
       "0      0.0  0.0  0.0  0.044335  1.046841       7   43920.00  \n",
       "1      0.0  0.0  0.0 -0.726601 -0.215714       4   73566.00  \n",
       "2      0.0  0.0  0.0  0.076355  0.262555       4   80154.00  \n",
       "3      0.0  0.0  0.0  1.576355 -0.093823       6   51880.50  \n",
       "4      0.0  0.0  0.0 -0.357143 -0.447667       3   54894.51  \n",
       "...    ...  ...  ...       ...       ...     ...        ...  \n",
       "10036  1.0  0.0  0.0 -2.290640 -0.262274       2  101565.00  \n",
       "10037  0.0  0.0  0.0  0.000000  0.037126       7   60390.00  \n",
       "10038  0.0  0.0  0.0  1.748768  2.274101       1   43920.00  \n",
       "10039  1.0  0.0  0.0 -2.290640  0.154229       2   87840.00  \n",
       "10040  0.0  0.0  0.0  0.886700 -0.447667       6   54894.51  \n",
       "\n",
       "[10041 rows x 35 columns]"
      ]
     },
     "execution_count": 409,
     "metadata": {},
     "output_type": "execute_result"
    }
   ],
   "source": [
    "focus_similares"
   ]
  },
  {
   "cell_type": "code",
   "execution_count": 419,
   "id": "1b460cc0-e337-4773-bfff-879dd8a098a0",
   "metadata": {},
   "outputs": [
    {
     "name": "stdout",
     "output_type": "stream",
     "text": [
      "1581401.2674682736\n",
      "-782673.2849265635\n",
      "564542.2904141843\n",
      "397499.0377380252\n",
      "-961782.6360729635\n",
      "-1020371.0947861746\n",
      "523933.68072631024\n",
      "-361809.85899296403\n"
     ]
    }
   ],
   "source": [
    "for cluster in focus_similares.labels.unique():\n",
    "    preco_predito_label_1 = model.predict(focus_similares.query(\"labels == @cluster\").drop(['labels','preco'],axis=1))\n",
    "    a = focus_similares.query(\"labels == @cluster\").assign(valor_pred = preco_predito_label_1)\n",
    "    print(a.valor_pred.sum() - a.preco.sum())"
   ]
  },
  {
   "cell_type": "code",
   "execution_count": null,
   "id": "17ed4732-02e2-4a3c-9ccb-019c74515609",
   "metadata": {},
   "outputs": [],
   "source": [
    "0.27"
   ]
  },
  {
   "cell_type": "code",
   "execution_count": null,
   "id": "a979cee5-5f93-4672-813d-9e6e27a0e78a",
   "metadata": {},
   "outputs": [],
   "source": []
  },
  {
   "cell_type": "code",
   "execution_count": null,
   "id": "c64ac433-6922-49bf-8719-4eda322f4838",
   "metadata": {},
   "outputs": [],
   "source": []
  },
  {
   "cell_type": "code",
   "execution_count": null,
   "id": "f104870c-e2da-4b5a-96ec-725345657355",
   "metadata": {},
   "outputs": [],
   "source": []
  },
  {
   "cell_type": "code",
   "execution_count": null,
   "id": "cdf110d1-259c-4aec-94ad-1f1b1f4526d5",
   "metadata": {},
   "outputs": [],
   "source": []
  }
 ],
 "metadata": {
  "kernelspec": {
   "display_name": "Python 3 (ipykernel)",
   "language": "python",
   "name": "python3"
  },
  "language_info": {
   "codemirror_mode": {
    "name": "ipython",
    "version": 3
   },
   "file_extension": ".py",
   "mimetype": "text/x-python",
   "name": "python",
   "nbconvert_exporter": "python",
   "pygments_lexer": "ipython3",
   "version": "3.8.10"
  }
 },
 "nbformat": 4,
 "nbformat_minor": 5
}
