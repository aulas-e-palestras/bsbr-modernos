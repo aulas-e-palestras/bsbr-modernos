{
 "cells": [
  {
   "cell_type": "markdown",
   "id": "e1617aef-251f-4198-b80c-ece96d295a2d",
   "metadata": {},
   "source": [
    "## Importações"
   ]
  },
  {
   "cell_type": "code",
   "execution_count": 44,
   "id": "68271d2c-5683-45e6-bb19-6442d35840c0",
   "metadata": {},
   "outputs": [],
   "source": [
    "import pandas as pd\n",
    "import numpy as np\n",
    "import matplotlib.pyplot as plt\n",
    "import seaborn as sns\n",
    "from tqdm import tqdm\n",
    "\n",
    "from sklearn.preprocessing import OneHotEncoder\n",
    "from sklearn.preprocessing import MinMaxScaler\n",
    "from sklearn.compose import make_column_transformer\n",
    "from sklearn.pipeline import make_pipeline\n",
    "from sklearn.model_selection import train_test_split\n",
    "\n",
    "from sklearn.linear_model import LogisticRegression\n",
    "from sklearn.tree import DecisionTreeClassifier\n",
    "from sklearn.ensemble import RandomForestClassifier\n",
    "from sklearn.svm import SVC\n",
    "from sklearn.ensemble import VotingClassifier\n",
    "from sklearn.ensemble import StackingClassifier\n",
    "\n",
    "from sklearn.decomposition import TruncatedSVD\n",
    "\n",
    "from sklearn.metrics import classification_report\n",
    "\n",
    "from sklearn import set_config\n",
    "set_config(display=\"diagram\")"
   ]
  },
  {
   "cell_type": "markdown",
   "id": "ce4d2e49-7b4c-4627-a6fe-a005df4de64c",
   "metadata": {},
   "source": [
    "## Dados"
   ]
  },
  {
   "cell_type": "code",
   "execution_count": 45,
   "id": "70a7729f-9217-4468-ad92-5f2e8cce1c5b",
   "metadata": {},
   "outputs": [
    {
     "data": {
      "text/html": [
       "<div>\n",
       "<style scoped>\n",
       "    .dataframe tbody tr th:only-of-type {\n",
       "        vertical-align: middle;\n",
       "    }\n",
       "\n",
       "    .dataframe tbody tr th {\n",
       "        vertical-align: top;\n",
       "    }\n",
       "\n",
       "    .dataframe thead th {\n",
       "        text-align: right;\n",
       "    }\n",
       "</style>\n",
       "<table border=\"1\" class=\"dataframe\">\n",
       "  <thead>\n",
       "    <tr style=\"text-align: right;\">\n",
       "      <th></th>\n",
       "      <th>id</th>\n",
       "      <th>airline</th>\n",
       "      <th>flight</th>\n",
       "      <th>airportfrom</th>\n",
       "      <th>airportto</th>\n",
       "      <th>dayofweek</th>\n",
       "      <th>time</th>\n",
       "      <th>length</th>\n",
       "      <th>delay</th>\n",
       "    </tr>\n",
       "  </thead>\n",
       "  <tbody>\n",
       "    <tr>\n",
       "      <th>0</th>\n",
       "      <td>1</td>\n",
       "      <td>CO</td>\n",
       "      <td>269</td>\n",
       "      <td>SFO</td>\n",
       "      <td>IAH</td>\n",
       "      <td>3</td>\n",
       "      <td>15</td>\n",
       "      <td>205</td>\n",
       "      <td>1</td>\n",
       "    </tr>\n",
       "    <tr>\n",
       "      <th>1</th>\n",
       "      <td>2</td>\n",
       "      <td>US</td>\n",
       "      <td>1558</td>\n",
       "      <td>PHX</td>\n",
       "      <td>CLT</td>\n",
       "      <td>3</td>\n",
       "      <td>15</td>\n",
       "      <td>222</td>\n",
       "      <td>1</td>\n",
       "    </tr>\n",
       "    <tr>\n",
       "      <th>2</th>\n",
       "      <td>3</td>\n",
       "      <td>AA</td>\n",
       "      <td>2400</td>\n",
       "      <td>LAX</td>\n",
       "      <td>DFW</td>\n",
       "      <td>3</td>\n",
       "      <td>20</td>\n",
       "      <td>165</td>\n",
       "      <td>1</td>\n",
       "    </tr>\n",
       "    <tr>\n",
       "      <th>3</th>\n",
       "      <td>4</td>\n",
       "      <td>AA</td>\n",
       "      <td>2466</td>\n",
       "      <td>SFO</td>\n",
       "      <td>DFW</td>\n",
       "      <td>3</td>\n",
       "      <td>20</td>\n",
       "      <td>195</td>\n",
       "      <td>1</td>\n",
       "    </tr>\n",
       "    <tr>\n",
       "      <th>4</th>\n",
       "      <td>5</td>\n",
       "      <td>AS</td>\n",
       "      <td>108</td>\n",
       "      <td>ANC</td>\n",
       "      <td>SEA</td>\n",
       "      <td>3</td>\n",
       "      <td>30</td>\n",
       "      <td>202</td>\n",
       "      <td>0</td>\n",
       "    </tr>\n",
       "  </tbody>\n",
       "</table>\n",
       "</div>"
      ],
      "text/plain": [
       "   id airline  flight airportfrom airportto  dayofweek  time  length  delay\n",
       "0   1      CO     269         SFO       IAH          3    15     205      1\n",
       "1   2      US    1558         PHX       CLT          3    15     222      1\n",
       "2   3      AA    2400         LAX       DFW          3    20     165      1\n",
       "3   4      AA    2466         SFO       DFW          3    20     195      1\n",
       "4   5      AS     108         ANC       SEA          3    30     202      0"
      ]
     },
     "execution_count": 45,
     "metadata": {},
     "output_type": "execute_result"
    }
   ],
   "source": [
    "df = pd.read_csv('../data/dataset_atraso/Airlines.csv')\n",
    "df.columns = [x.lower() for x in df.columns]\n",
    "df.head()"
   ]
  },
  {
   "cell_type": "markdown",
   "id": "0bdab02c-17c9-4cb0-a6a9-91353d8cc043",
   "metadata": {},
   "source": [
    "## Limpeza"
   ]
  },
  {
   "cell_type": "code",
   "execution_count": 46,
   "id": "d2460cbe-23bb-46c7-9244-b47c0232bd37",
   "metadata": {},
   "outputs": [
    {
     "data": {
      "text/plain": [
       "id             0\n",
       "airline        0\n",
       "flight         0\n",
       "airportfrom    0\n",
       "airportto      0\n",
       "dayofweek      0\n",
       "time           0\n",
       "length         0\n",
       "delay          0\n",
       "dtype: int64"
      ]
     },
     "execution_count": 46,
     "metadata": {},
     "output_type": "execute_result"
    }
   ],
   "source": [
    "## valores nulos\n",
    "\n",
    "df.isna().sum()"
   ]
  },
  {
   "cell_type": "code",
   "execution_count": 47,
   "id": "589c4231-a164-4c06-8608-39c2920e48ff",
   "metadata": {},
   "outputs": [
    {
     "data": {
      "text/plain": [
       "array([3, 4, 5, 6, 7, 1, 2])"
      ]
     },
     "execution_count": 47,
     "metadata": {},
     "output_type": "execute_result"
    }
   ],
   "source": [
    "## valores do dia da semana\n",
    "\n",
    "df.dayofweek.unique()"
   ]
  },
  {
   "cell_type": "code",
   "execution_count": 48,
   "id": "1816f34b-9fd2-4c0a-b9f1-a9dffa4d4539",
   "metadata": {},
   "outputs": [
    {
     "data": {
      "image/png": "[encoded data removed]",
      "text/plain": [
       "<Figure size 432x288 with 1 Axes>"
      ]
     },
     "metadata": {
      "needs_background": "light"
     },
     "output_type": "display_data"
    }
   ],
   "source": [
    "## tempo\n",
    "\n",
    "plt.boxplot(df.time);"
   ]
  },
  {
   "cell_type": "code",
   "execution_count": 49,
   "id": "c719087e-8cf7-4ef9-902a-aa3de4cbdf75",
   "metadata": {},
   "outputs": [
    {
     "data": {
      "text/plain": [
       "0"
      ]
     },
     "execution_count": 49,
     "metadata": {},
     "output_type": "execute_result"
    }
   ],
   "source": [
    "## valores duplicados\n",
    "\n",
    "df.duplicated().sum()"
   ]
  },
  {
   "cell_type": "code",
   "execution_count": 50,
   "id": "b264a85b-b561-42ec-837a-f29357b52897",
   "metadata": {},
   "outputs": [
    {
     "data": {
      "text/plain": [
       "array(['CO', 'US', 'AA', 'AS', 'DL', 'B6', 'HA', 'OO', '9E', 'OH', 'EV',\n",
       "       'XE', 'YV', 'UA', 'MQ', 'FL', 'F9', 'WN'], dtype=object)"
      ]
     },
     "execution_count": 50,
     "metadata": {},
     "output_type": "execute_result"
    }
   ],
   "source": [
    "df.airline.unique()"
   ]
  },
  {
   "cell_type": "code",
   "execution_count": 51,
   "id": "1eed2b75-8221-41ed-a3ec-5d0e3755075d",
   "metadata": {},
   "outputs": [
    {
     "data": {
      "text/html": [
       "<div>\n",
       "<style scoped>\n",
       "    .dataframe tbody tr th:only-of-type {\n",
       "        vertical-align: middle;\n",
       "    }\n",
       "\n",
       "    .dataframe tbody tr th {\n",
       "        vertical-align: top;\n",
       "    }\n",
       "\n",
       "    .dataframe thead th {\n",
       "        text-align: right;\n",
       "    }\n",
       "</style>\n",
       "<table border=\"1\" class=\"dataframe\">\n",
       "  <thead>\n",
       "    <tr style=\"text-align: right;\">\n",
       "      <th></th>\n",
       "      <th>id</th>\n",
       "      <th>airline</th>\n",
       "      <th>flight</th>\n",
       "      <th>airportfrom</th>\n",
       "      <th>airportto</th>\n",
       "      <th>dayofweek</th>\n",
       "      <th>time</th>\n",
       "      <th>length</th>\n",
       "      <th>delay</th>\n",
       "    </tr>\n",
       "  </thead>\n",
       "  <tbody>\n",
       "    <tr>\n",
       "      <th>324</th>\n",
       "      <td>325</td>\n",
       "      <td>F9</td>\n",
       "      <td>225</td>\n",
       "      <td>MDW</td>\n",
       "      <td>DEN</td>\n",
       "      <td>3</td>\n",
       "      <td>360</td>\n",
       "      <td>157</td>\n",
       "      <td>1</td>\n",
       "    </tr>\n",
       "    <tr>\n",
       "      <th>325</th>\n",
       "      <td>326</td>\n",
       "      <td>F9</td>\n",
       "      <td>377</td>\n",
       "      <td>BOS</td>\n",
       "      <td>MKE</td>\n",
       "      <td>3</td>\n",
       "      <td>360</td>\n",
       "      <td>165</td>\n",
       "      <td>1</td>\n",
       "    </tr>\n",
       "    <tr>\n",
       "      <th>644</th>\n",
       "      <td>645</td>\n",
       "      <td>F9</td>\n",
       "      <td>453</td>\n",
       "      <td>LGA</td>\n",
       "      <td>MKE</td>\n",
       "      <td>3</td>\n",
       "      <td>370</td>\n",
       "      <td>135</td>\n",
       "      <td>0</td>\n",
       "    </tr>\n",
       "    <tr>\n",
       "      <th>645</th>\n",
       "      <td>646</td>\n",
       "      <td>F9</td>\n",
       "      <td>653</td>\n",
       "      <td>ATL</td>\n",
       "      <td>DEN</td>\n",
       "      <td>3</td>\n",
       "      <td>370</td>\n",
       "      <td>201</td>\n",
       "      <td>1</td>\n",
       "    </tr>\n",
       "    <tr>\n",
       "      <th>744</th>\n",
       "      <td>745</td>\n",
       "      <td>F9</td>\n",
       "      <td>103</td>\n",
       "      <td>MSP</td>\n",
       "      <td>DEN</td>\n",
       "      <td>3</td>\n",
       "      <td>375</td>\n",
       "      <td>131</td>\n",
       "      <td>0</td>\n",
       "    </tr>\n",
       "    <tr>\n",
       "      <th>...</th>\n",
       "      <td>...</td>\n",
       "      <td>...</td>\n",
       "      <td>...</td>\n",
       "      <td>...</td>\n",
       "      <td>...</td>\n",
       "      <td>...</td>\n",
       "      <td>...</td>\n",
       "      <td>...</td>\n",
       "      <td>...</td>\n",
       "    </tr>\n",
       "    <tr>\n",
       "      <th>538974</th>\n",
       "      <td>538975</td>\n",
       "      <td>F9</td>\n",
       "      <td>725</td>\n",
       "      <td>DEN</td>\n",
       "      <td>SAN</td>\n",
       "      <td>5</td>\n",
       "      <td>1270</td>\n",
       "      <td>139</td>\n",
       "      <td>1</td>\n",
       "    </tr>\n",
       "    <tr>\n",
       "      <th>538975</th>\n",
       "      <td>538976</td>\n",
       "      <td>F9</td>\n",
       "      <td>797</td>\n",
       "      <td>DEN</td>\n",
       "      <td>PDX</td>\n",
       "      <td>5</td>\n",
       "      <td>1270</td>\n",
       "      <td>162</td>\n",
       "      <td>1</td>\n",
       "    </tr>\n",
       "    <tr>\n",
       "      <th>538996</th>\n",
       "      <td>538997</td>\n",
       "      <td>F9</td>\n",
       "      <td>861</td>\n",
       "      <td>DEN</td>\n",
       "      <td>PHX</td>\n",
       "      <td>5</td>\n",
       "      <td>1275</td>\n",
       "      <td>108</td>\n",
       "      <td>1</td>\n",
       "    </tr>\n",
       "    <tr>\n",
       "      <th>539009</th>\n",
       "      <td>539010</td>\n",
       "      <td>F9</td>\n",
       "      <td>419</td>\n",
       "      <td>DEN</td>\n",
       "      <td>LAX</td>\n",
       "      <td>5</td>\n",
       "      <td>1280</td>\n",
       "      <td>149</td>\n",
       "      <td>1</td>\n",
       "    </tr>\n",
       "    <tr>\n",
       "      <th>539026</th>\n",
       "      <td>539027</td>\n",
       "      <td>F9</td>\n",
       "      <td>789</td>\n",
       "      <td>DEN</td>\n",
       "      <td>LAS</td>\n",
       "      <td>5</td>\n",
       "      <td>1285</td>\n",
       "      <td>113</td>\n",
       "      <td>1</td>\n",
       "    </tr>\n",
       "  </tbody>\n",
       "</table>\n",
       "<p>6456 rows × 9 columns</p>\n",
       "</div>"
      ],
      "text/plain": [
       "            id airline  flight airportfrom airportto  dayofweek  time  length  \\\n",
       "324        325      F9     225         MDW       DEN          3   360     157   \n",
       "325        326      F9     377         BOS       MKE          3   360     165   \n",
       "644        645      F9     453         LGA       MKE          3   370     135   \n",
       "645        646      F9     653         ATL       DEN          3   370     201   \n",
       "744        745      F9     103         MSP       DEN          3   375     131   \n",
       "...        ...     ...     ...         ...       ...        ...   ...     ...   \n",
       "538974  538975      F9     725         DEN       SAN          5  1270     139   \n",
       "538975  538976      F9     797         DEN       PDX          5  1270     162   \n",
       "538996  538997      F9     861         DEN       PHX          5  1275     108   \n",
       "539009  539010      F9     419         DEN       LAX          5  1280     149   \n",
       "539026  539027      F9     789         DEN       LAS          5  1285     113   \n",
       "\n",
       "        delay  \n",
       "324         1  \n",
       "325         1  \n",
       "644         0  \n",
       "645         1  \n",
       "744         0  \n",
       "...       ...  \n",
       "538974      1  \n",
       "538975      1  \n",
       "538996      1  \n",
       "539009      1  \n",
       "539026      1  \n",
       "\n",
       "[6456 rows x 9 columns]"
      ]
     },
     "execution_count": 51,
     "metadata": {},
     "output_type": "execute_result"
    }
   ],
   "source": [
    "df[df.airline == 'F9']"
   ]
  },
  {
   "cell_type": "code",
   "execution_count": 52,
   "id": "f33ba753-5830-4501-b9ec-a730de6b7f63",
   "metadata": {},
   "outputs": [],
   "source": [
    "df['id'] = df.id.astype(str)\n",
    "df['flight'] = df.flight.astype(str)"
   ]
  },
  {
   "cell_type": "markdown",
   "id": "91d45780-39dc-4c8d-b12e-3fbd1ce6b9dc",
   "metadata": {},
   "source": [
    "## Analise"
   ]
  },
  {
   "cell_type": "markdown",
   "id": "5108b85c-1401-40d1-a4ff-ccc8d15c6682",
   "metadata": {},
   "source": [
    "To Do:\n",
    "\n",
    "* Trocar o tipo da coluna ID, Flight -- DONE\n",
    "* Analisar \"time\" e variável target"
   ]
  },
  {
   "cell_type": "code",
   "execution_count": 53,
   "id": "ef032d93-50e0-4ce9-a7f6-44295131968f",
   "metadata": {},
   "outputs": [
    {
     "name": "stdout",
     "output_type": "stream",
     "text": [
      "<class 'pandas.core.frame.DataFrame'>\n",
      "RangeIndex: 539383 entries, 0 to 539382\n",
      "Data columns (total 9 columns):\n",
      " #   Column       Non-Null Count   Dtype \n",
      "---  ------       --------------   ----- \n",
      " 0   id           539383 non-null  object\n",
      " 1   airline      539383 non-null  object\n",
      " 2   flight       539383 non-null  object\n",
      " 3   airportfrom  539383 non-null  object\n",
      " 4   airportto    539383 non-null  object\n",
      " 5   dayofweek    539383 non-null  int64 \n",
      " 6   time         539383 non-null  int64 \n",
      " 7   length       539383 non-null  int64 \n",
      " 8   delay        539383 non-null  int64 \n",
      "dtypes: int64(4), object(5)\n",
      "memory usage: 37.0+ MB\n"
     ]
    }
   ],
   "source": [
    "df.info()"
   ]
  },
  {
   "cell_type": "code",
   "execution_count": 54,
   "id": "80e9f14e-4477-4ad8-a8cb-17ac9882852b",
   "metadata": {},
   "outputs": [
    {
     "data": {
      "image/png": "[encoded data removed]",
      "text/plain": [
       "<Figure size 1152x648 with 2 Axes>"
      ]
     },
     "metadata": {
      "needs_background": "light"
     },
     "output_type": "display_data"
    }
   ],
   "source": [
    "f, ax = plt.subplots(1,2,figsize=(16,9),sharey=True)\n",
    "\n",
    "ax[0].boxplot(df.query(\"delay == 0\").time)\n",
    "ax[1].boxplot(df.query(\"delay == 1\").time)\n",
    "\n",
    "ax[0].set_xticklabels('')\n",
    "ax[1].set_xticklabels('')\n",
    "\n",
    "plt.show()"
   ]
  },
  {
   "cell_type": "code",
   "execution_count": 14,
   "id": "d6c9e1e5-5d8b-4d92-95f0-e638722af566",
   "metadata": {},
   "outputs": [
    {
     "data": {
      "text/plain": [
       "<seaborn.axisgrid.FacetGrid at 0x7f258b1d00d0>"
      ]
     },
     "execution_count": 14,
     "metadata": {},
     "output_type": "execute_result"
    },
    {
     "data": {
      "image/png": "[encoded data removed]",
      "text/plain": [
       "<Figure size 402.375x360 with 1 Axes>"
      ]
     },
     "metadata": {
      "needs_background": "light"
     },
     "output_type": "display_data"
    }
   ],
   "source": [
    "sns.displot(data=df,x='time',hue='delay')"
   ]
  },
  {
   "cell_type": "code",
   "execution_count": 15,
   "id": "58bb7fa7-ee86-47e9-af6a-890dd7f0a829",
   "metadata": {},
   "outputs": [
    {
     "data": {
      "text/plain": [
       "<seaborn.axisgrid.FacetGrid at 0x7f2586c20eb0>"
      ]
     },
     "execution_count": 15,
     "metadata": {},
     "output_type": "execute_result"
    },
    {
     "data": {
      "image/png": "[encoded data removed]",
      "text/plain": [
       "<Figure size 402.375x360 with 1 Axes>"
      ]
     },
     "metadata": {
      "needs_background": "light"
     },
     "output_type": "display_data"
    }
   ],
   "source": [
    "sns.displot(data=df,x='length',hue='delay')"
   ]
  },
  {
   "cell_type": "code",
   "execution_count": 16,
   "id": "7c54c900-bd7e-4ae7-8be8-222a49be7d4b",
   "metadata": {},
   "outputs": [
    {
     "data": {
      "text/plain": [
       "6585"
      ]
     },
     "execution_count": 16,
     "metadata": {},
     "output_type": "execute_result"
    }
   ],
   "source": [
    "df.flight.nunique()"
   ]
  },
  {
   "cell_type": "code",
   "execution_count": 17,
   "id": "a9e70380-2eb6-40eb-b7c8-9a1ff5c187ae",
   "metadata": {},
   "outputs": [
    {
     "data": {
      "text/plain": [
       "0    0.554558\n",
       "1    0.445442\n",
       "Name: delay, dtype: float64"
      ]
     },
     "execution_count": 17,
     "metadata": {},
     "output_type": "execute_result"
    }
   ],
   "source": [
    "df.delay.value_counts(normalize=True)"
   ]
  },
  {
   "cell_type": "markdown",
   "id": "fa0205c7-3644-45c8-ad70-f02b36bc7227",
   "metadata": {},
   "source": [
    "## Pre Processamento"
   ]
  },
  {
   "cell_type": "code",
   "execution_count": 55,
   "id": "e7b90b7e-80da-41f6-9b0e-ac29d8013fed",
   "metadata": {},
   "outputs": [],
   "source": [
    "df = df.query(\"airline == 'AA'\")"
   ]
  },
  {
   "cell_type": "code",
   "execution_count": 56,
   "id": "38c0fc87-4f59-40d0-beb9-ac1b080d8310",
   "metadata": {},
   "outputs": [
    {
     "data": {
      "text/html": [
       "<div>\n",
       "<style scoped>\n",
       "    .dataframe tbody tr th:only-of-type {\n",
       "        vertical-align: middle;\n",
       "    }\n",
       "\n",
       "    .dataframe tbody tr th {\n",
       "        vertical-align: top;\n",
       "    }\n",
       "\n",
       "    .dataframe thead th {\n",
       "        text-align: right;\n",
       "    }\n",
       "</style>\n",
       "<table border=\"1\" class=\"dataframe\">\n",
       "  <thead>\n",
       "    <tr style=\"text-align: right;\">\n",
       "      <th></th>\n",
       "      <th>id</th>\n",
       "      <th>airline</th>\n",
       "      <th>flight</th>\n",
       "      <th>airportfrom</th>\n",
       "      <th>airportto</th>\n",
       "      <th>dayofweek</th>\n",
       "      <th>time</th>\n",
       "      <th>length</th>\n",
       "      <th>delay</th>\n",
       "    </tr>\n",
       "  </thead>\n",
       "  <tbody>\n",
       "    <tr>\n",
       "      <th>2</th>\n",
       "      <td>3</td>\n",
       "      <td>AA</td>\n",
       "      <td>2400</td>\n",
       "      <td>LAX</td>\n",
       "      <td>DFW</td>\n",
       "      <td>3</td>\n",
       "      <td>20</td>\n",
       "      <td>165</td>\n",
       "      <td>1</td>\n",
       "    </tr>\n",
       "    <tr>\n",
       "      <th>3</th>\n",
       "      <td>4</td>\n",
       "      <td>AA</td>\n",
       "      <td>2466</td>\n",
       "      <td>SFO</td>\n",
       "      <td>DFW</td>\n",
       "      <td>3</td>\n",
       "      <td>20</td>\n",
       "      <td>195</td>\n",
       "      <td>1</td>\n",
       "    </tr>\n",
       "    <tr>\n",
       "      <th>9</th>\n",
       "      <td>10</td>\n",
       "      <td>AA</td>\n",
       "      <td>2538</td>\n",
       "      <td>LAS</td>\n",
       "      <td>ORD</td>\n",
       "      <td>3</td>\n",
       "      <td>40</td>\n",
       "      <td>200</td>\n",
       "      <td>1</td>\n",
       "    </tr>\n",
       "    <tr>\n",
       "      <th>13</th>\n",
       "      <td>14</td>\n",
       "      <td>AA</td>\n",
       "      <td>2408</td>\n",
       "      <td>LAX</td>\n",
       "      <td>DFW</td>\n",
       "      <td>3</td>\n",
       "      <td>55</td>\n",
       "      <td>170</td>\n",
       "      <td>0</td>\n",
       "    </tr>\n",
       "    <tr>\n",
       "      <th>56</th>\n",
       "      <td>57</td>\n",
       "      <td>AA</td>\n",
       "      <td>1711</td>\n",
       "      <td>BOS</td>\n",
       "      <td>MIA</td>\n",
       "      <td>3</td>\n",
       "      <td>330</td>\n",
       "      <td>210</td>\n",
       "      <td>0</td>\n",
       "    </tr>\n",
       "  </tbody>\n",
       "</table>\n",
       "</div>"
      ],
      "text/plain": [
       "    id airline flight airportfrom airportto  dayofweek  time  length  delay\n",
       "2    3      AA   2400         LAX       DFW          3    20     165      1\n",
       "3    4      AA   2466         SFO       DFW          3    20     195      1\n",
       "9   10      AA   2538         LAS       ORD          3    40     200      1\n",
       "13  14      AA   2408         LAX       DFW          3    55     170      0\n",
       "56  57      AA   1711         BOS       MIA          3   330     210      0"
      ]
     },
     "execution_count": 56,
     "metadata": {},
     "output_type": "execute_result"
    }
   ],
   "source": [
    "df.head()"
   ]
  },
  {
   "cell_type": "code",
   "execution_count": 57,
   "id": "965bac2f-bf67-46f5-a0ff-486fa3e33293",
   "metadata": {},
   "outputs": [],
   "source": [
    "x = df.drop(['id','flight','delay'],axis=1)\n",
    "y = df.delay"
   ]
  },
  {
   "cell_type": "code",
   "execution_count": 58,
   "id": "bd906872-4e82-4fda-bd8c-50abc39d66da",
   "metadata": {},
   "outputs": [],
   "source": [
    "x_train, x_test, y_train, y_test = train_test_split(x,y,test_size=0.2,random_state=42,stratify=y)"
   ]
  },
  {
   "cell_type": "code",
   "execution_count": 59,
   "id": "755580c8-63c6-4d46-8c8f-4bc1d8babbe4",
   "metadata": {},
   "outputs": [],
   "source": [
    "cat_var = ['airline','airportfrom','airportto','dayofweek']\n",
    "num_var = ['time','length']"
   ]
  },
  {
   "cell_type": "code",
   "execution_count": 60,
   "id": "bf08facd-47bc-47a8-a32b-ec4c1b646289",
   "metadata": {},
   "outputs": [],
   "source": [
    "col_transf = make_column_transformer((OneHotEncoder(),cat_var),(MinMaxScaler(),num_var))"
   ]
  },
  {
   "cell_type": "code",
   "execution_count": 61,
   "id": "6937a316-b75f-4996-8d98-d321121fcd13",
   "metadata": {},
   "outputs": [],
   "source": [
    "pipe_final = make_pipeline(col_transf,TruncatedSVD(n_components=50,random_state=42))"
   ]
  },
  {
   "cell_type": "code",
   "execution_count": 62,
   "id": "39e37598-e017-4029-862b-792b8c2edfb8",
   "metadata": {},
   "outputs": [
    {
     "data": {
      "text/html": [
       "<style>#sk-c6df14e1-2466-4d24-b33b-2b52b622ad4e {color: black;background-color: white;}#sk-c6df14e1-2466-4d24-b33b-2b52b622ad4e pre{padding: 0;}#sk-c6df14e1-2466-4d24-b33b-2b52b622ad4e div.sk-toggleable {background-color: white;}#sk-c6df14e1-2466-4d24-b33b-2b52b622ad4e label.sk-toggleable__label {cursor: pointer;display: block;width: 100%;margin-bottom: 0;padding: 0.3em;box-sizing: border-box;text-align: center;}#sk-c6df14e1-2466-4d24-b33b-2b52b622ad4e label.sk-toggleable__label-arrow:before {content: \"▸\";float: left;margin-right: 0.25em;color: #696969;}#sk-c6df14e1-2466-4d24-b33b-2b52b622ad4e label.sk-toggleable__label-arrow:hover:before {color: black;}#sk-c6df14e1-2466-4d24-b33b-2b52b622ad4e div.sk-estimator:hover label.sk-toggleable__label-arrow:before {color: black;}#sk-c6df14e1-2466-4d24-b33b-2b52b622ad4e div.sk-toggleable__content {max-height: 0;max-width: 0;overflow: hidden;text-align: left;background-color: #f0f8ff;}#sk-c6df14e1-2466-4d24-b33b-2b52b622ad4e div.sk-toggleable__content pre {margin: 0.2em;color: black;border-radius: 0.25em;background-color: #f0f8ff;}#sk-c6df14e1-2466-4d24-b33b-2b52b622ad4e input.sk-toggleable__control:checked~div.sk-toggleable__content {max-height: 200px;max-width: 100%;overflow: auto;}#sk-c6df14e1-2466-4d24-b33b-2b52b622ad4e input.sk-toggleable__control:checked~label.sk-toggleable__label-arrow:before {content: \"▾\";}#sk-c6df14e1-2466-4d24-b33b-2b52b622ad4e div.sk-estimator input.sk-toggleable__control:checked~label.sk-toggleable__label {background-color: #d4ebff;}#sk-c6df14e1-2466-4d24-b33b-2b52b622ad4e div.sk-label input.sk-toggleable__control:checked~label.sk-toggleable__label {background-color: #d4ebff;}#sk-c6df14e1-2466-4d24-b33b-2b52b622ad4e input.sk-hidden--visually {border: 0;clip: rect(1px 1px 1px 1px);clip: rect(1px, 1px, 1px, 1px);height: 1px;margin: -1px;overflow: hidden;padding: 0;position: absolute;width: 1px;}#sk-c6df14e1-2466-4d24-b33b-2b52b622ad4e div.sk-estimator {font-family: monospace;background-color: #f0f8ff;border: 1px dotted black;border-radius: 0.25em;box-sizing: border-box;margin-bottom: 0.5em;}#sk-c6df14e1-2466-4d24-b33b-2b52b622ad4e div.sk-estimator:hover {background-color: #d4ebff;}#sk-c6df14e1-2466-4d24-b33b-2b52b622ad4e div.sk-parallel-item::after {content: \"\";width: 100%;border-bottom: 1px solid gray;flex-grow: 1;}#sk-c6df14e1-2466-4d24-b33b-2b52b622ad4e div.sk-label:hover label.sk-toggleable__label {background-color: #d4ebff;}#sk-c6df14e1-2466-4d24-b33b-2b52b622ad4e div.sk-serial::before {content: \"\";position: absolute;border-left: 1px solid gray;box-sizing: border-box;top: 2em;bottom: 0;left: 50%;}#sk-c6df14e1-2466-4d24-b33b-2b52b622ad4e div.sk-serial {display: flex;flex-direction: column;align-items: center;background-color: white;padding-right: 0.2em;padding-left: 0.2em;}#sk-c6df14e1-2466-4d24-b33b-2b52b622ad4e div.sk-item {z-index: 1;}#sk-c6df14e1-2466-4d24-b33b-2b52b622ad4e div.sk-parallel {display: flex;align-items: stretch;justify-content: center;background-color: white;}#sk-c6df14e1-2466-4d24-b33b-2b52b622ad4e div.sk-parallel::before {content: \"\";position: absolute;border-left: 1px solid gray;box-sizing: border-box;top: 2em;bottom: 0;left: 50%;}#sk-c6df14e1-2466-4d24-b33b-2b52b622ad4e div.sk-parallel-item {display: flex;flex-direction: column;position: relative;background-color: white;}#sk-c6df14e1-2466-4d24-b33b-2b52b622ad4e div.sk-parallel-item:first-child::after {align-self: flex-end;width: 50%;}#sk-c6df14e1-2466-4d24-b33b-2b52b622ad4e div.sk-parallel-item:last-child::after {align-self: flex-start;width: 50%;}#sk-c6df14e1-2466-4d24-b33b-2b52b622ad4e div.sk-parallel-item:only-child::after {width: 0;}#sk-c6df14e1-2466-4d24-b33b-2b52b622ad4e div.sk-dashed-wrapped {border: 1px dashed gray;margin: 0 0.4em 0.5em 0.4em;box-sizing: border-box;padding-bottom: 0.4em;background-color: white;position: relative;}#sk-c6df14e1-2466-4d24-b33b-2b52b622ad4e div.sk-label label {font-family: monospace;font-weight: bold;background-color: white;display: inline-block;line-height: 1.2em;}#sk-c6df14e1-2466-4d24-b33b-2b52b622ad4e div.sk-label-container {position: relative;z-index: 2;text-align: center;}#sk-c6df14e1-2466-4d24-b33b-2b52b622ad4e div.sk-container {/* jupyter's `normalize.less` sets `[hidden] { display: none; }` but bootstrap.min.css set `[hidden] { display: none !important; }` so we also need the `!important` here to be able to override the default hidden behavior on the sphinx rendered scikit-learn.org. See: https://github.com/scikit-learn/scikit-learn/issues/21755 */display: inline-block !important;position: relative;}#sk-c6df14e1-2466-4d24-b33b-2b52b622ad4e div.sk-text-repr-fallback {display: none;}</style><div id=\"sk-c6df14e1-2466-4d24-b33b-2b52b622ad4e\" class=\"sk-top-container\"><div class=\"sk-text-repr-fallback\"><pre>Pipeline(steps=[(&#x27;columntransformer&#x27;,\n",
       "                 ColumnTransformer(transformers=[(&#x27;onehotencoder&#x27;,\n",
       "                                                  OneHotEncoder(),\n",
       "                                                  [&#x27;airline&#x27;, &#x27;airportfrom&#x27;,\n",
       "                                                   &#x27;airportto&#x27;, &#x27;dayofweek&#x27;]),\n",
       "                                                 (&#x27;minmaxscaler&#x27;,\n",
       "                                                  MinMaxScaler(),\n",
       "                                                  [&#x27;time&#x27;, &#x27;length&#x27;])])),\n",
       "                (&#x27;truncatedsvd&#x27;,\n",
       "                 TruncatedSVD(n_components=50, random_state=42))])</pre><b>Please rerun this cell to show the HTML repr or trust the notebook.</b></div><div class=\"sk-container\" hidden><div class=\"sk-item sk-dashed-wrapped\"><div class=\"sk-label-container\"><div class=\"sk-label sk-toggleable\"><input class=\"sk-toggleable__control sk-hidden--visually\" id=\"f25758af-59b8-45a9-b18b-7442275ff481\" type=\"checkbox\" ><label for=\"f25758af-59b8-45a9-b18b-7442275ff481\" class=\"sk-toggleable__label sk-toggleable__label-arrow\">Pipeline</label><div class=\"sk-toggleable__content\"><pre>Pipeline(steps=[(&#x27;columntransformer&#x27;,\n",
       "                 ColumnTransformer(transformers=[(&#x27;onehotencoder&#x27;,\n",
       "                                                  OneHotEncoder(),\n",
       "                                                  [&#x27;airline&#x27;, &#x27;airportfrom&#x27;,\n",
       "                                                   &#x27;airportto&#x27;, &#x27;dayofweek&#x27;]),\n",
       "                                                 (&#x27;minmaxscaler&#x27;,\n",
       "                                                  MinMaxScaler(),\n",
       "                                                  [&#x27;time&#x27;, &#x27;length&#x27;])])),\n",
       "                (&#x27;truncatedsvd&#x27;,\n",
       "                 TruncatedSVD(n_components=50, random_state=42))])</pre></div></div></div><div class=\"sk-serial\"><div class=\"sk-item sk-dashed-wrapped\"><div class=\"sk-label-container\"><div class=\"sk-label sk-toggleable\"><input class=\"sk-toggleable__control sk-hidden--visually\" id=\"d151afae-57cc-4209-9880-b7762dfdc437\" type=\"checkbox\" ><label for=\"d151afae-57cc-4209-9880-b7762dfdc437\" class=\"sk-toggleable__label sk-toggleable__label-arrow\">columntransformer: ColumnTransformer</label><div class=\"sk-toggleable__content\"><pre>ColumnTransformer(transformers=[(&#x27;onehotencoder&#x27;, OneHotEncoder(),\n",
       "                                 [&#x27;airline&#x27;, &#x27;airportfrom&#x27;, &#x27;airportto&#x27;,\n",
       "                                  &#x27;dayofweek&#x27;]),\n",
       "                                (&#x27;minmaxscaler&#x27;, MinMaxScaler(),\n",
       "                                 [&#x27;time&#x27;, &#x27;length&#x27;])])</pre></div></div></div><div class=\"sk-parallel\"><div class=\"sk-parallel-item\"><div class=\"sk-item\"><div class=\"sk-label-container\"><div class=\"sk-label sk-toggleable\"><input class=\"sk-toggleable__control sk-hidden--visually\" id=\"ba4c51f3-0ef6-4607-bf62-c6a0ec5eca86\" type=\"checkbox\" ><label for=\"ba4c51f3-0ef6-4607-bf62-c6a0ec5eca86\" class=\"sk-toggleable__label sk-toggleable__label-arrow\">onehotencoder</label><div class=\"sk-toggleable__content\"><pre>[&#x27;airline&#x27;, &#x27;airportfrom&#x27;, &#x27;airportto&#x27;, &#x27;dayofweek&#x27;]</pre></div></div></div><div class=\"sk-serial\"><div class=\"sk-item\"><div class=\"sk-estimator sk-toggleable\"><input class=\"sk-toggleable__control sk-hidden--visually\" id=\"d8c5a94e-8a4a-440a-a71f-71b7e6c2afe7\" type=\"checkbox\" ><label for=\"d8c5a94e-8a4a-440a-a71f-71b7e6c2afe7\" class=\"sk-toggleable__label sk-toggleable__label-arrow\">OneHotEncoder</label><div class=\"sk-toggleable__content\"><pre>OneHotEncoder()</pre></div></div></div></div></div></div><div class=\"sk-parallel-item\"><div class=\"sk-item\"><div class=\"sk-label-container\"><div class=\"sk-label sk-toggleable\"><input class=\"sk-toggleable__control sk-hidden--visually\" id=\"705ab38f-3ffb-49e6-b5ac-ebdbef14755f\" type=\"checkbox\" ><label for=\"705ab38f-3ffb-49e6-b5ac-ebdbef14755f\" class=\"sk-toggleable__label sk-toggleable__label-arrow\">minmaxscaler</label><div class=\"sk-toggleable__content\"><pre>[&#x27;time&#x27;, &#x27;length&#x27;]</pre></div></div></div><div class=\"sk-serial\"><div class=\"sk-item\"><div class=\"sk-estimator sk-toggleable\"><input class=\"sk-toggleable__control sk-hidden--visually\" id=\"5e722dbc-5ee1-4a0d-8bc8-0eff3debe1dc\" type=\"checkbox\" ><label for=\"5e722dbc-5ee1-4a0d-8bc8-0eff3debe1dc\" class=\"sk-toggleable__label sk-toggleable__label-arrow\">MinMaxScaler</label><div class=\"sk-toggleable__content\"><pre>MinMaxScaler()</pre></div></div></div></div></div></div></div></div><div class=\"sk-item\"><div class=\"sk-estimator sk-toggleable\"><input class=\"sk-toggleable__control sk-hidden--visually\" id=\"e6b3be50-50c0-43a7-a8a6-ab7483535b80\" type=\"checkbox\" ><label for=\"e6b3be50-50c0-43a7-a8a6-ab7483535b80\" class=\"sk-toggleable__label sk-toggleable__label-arrow\">TruncatedSVD</label><div class=\"sk-toggleable__content\"><pre>TruncatedSVD(n_components=50, random_state=42)</pre></div></div></div></div></div></div></div>"
      ],
      "text/plain": [
       "Pipeline(steps=[('columntransformer',\n",
       "                 ColumnTransformer(transformers=[('onehotencoder',\n",
       "                                                  OneHotEncoder(),\n",
       "                                                  ['airline', 'airportfrom',\n",
       "                                                   'airportto', 'dayofweek']),\n",
       "                                                 ('minmaxscaler',\n",
       "                                                  MinMaxScaler(),\n",
       "                                                  ['time', 'length'])])),\n",
       "                ('truncatedsvd',\n",
       "                 TruncatedSVD(n_components=50, random_state=42))])"
      ]
     },
     "execution_count": 62,
     "metadata": {},
     "output_type": "execute_result"
    }
   ],
   "source": [
    "pipe_final.fit(x_train)"
   ]
  },
  {
   "cell_type": "code",
   "execution_count": 63,
   "id": "2ac8711b-6a3d-4c04-bf25-f8e9c5516857",
   "metadata": {},
   "outputs": [
    {
     "data": {
      "text/plain": [
       "array([0.00497888, 0.10711491, 0.06131587, 0.0607685 , 0.05899568,\n",
       "       0.05383868, 0.04900182, 0.04825294, 0.04476385, 0.03817897,\n",
       "       0.03348556, 0.0322429 , 0.02207282, 0.01932018, 0.01182241,\n",
       "       0.01120177, 0.01086065, 0.01069705, 0.01060544, 0.00848272,\n",
       "       0.00804323, 0.00754212, 0.00706297, 0.00688411, 0.00654079,\n",
       "       0.00650414, 0.00642909, 0.0062537 , 0.00615928, 0.00584383,\n",
       "       0.00567094, 0.00561807, 0.00536604, 0.00515363, 0.00476927,\n",
       "       0.00461676, 0.00416304, 0.00407202, 0.00393457, 0.00382654,\n",
       "       0.00374348, 0.00368813, 0.00349936, 0.00345504, 0.00344491,\n",
       "       0.00339039, 0.00334115, 0.00323323, 0.00317944, 0.00311622])"
      ]
     },
     "execution_count": 63,
     "metadata": {},
     "output_type": "execute_result"
    }
   ],
   "source": [
    "pipe_final.named_steps['truncatedsvd'].explained_variance_ratio_"
   ]
  },
  {
   "cell_type": "code",
   "execution_count": 64,
   "id": "150243d5-5e77-41af-8528-128bd45186aa",
   "metadata": {},
   "outputs": [],
   "source": [
    "x_train_scaled = pipe_final.transform(x_train)\n",
    "x_test_scaled  = pipe_final.transform(x_test)"
   ]
  },
  {
   "cell_type": "code",
   "execution_count": 65,
   "id": "d594e02e-ed8f-43e8-95cc-71f23d67a4f2",
   "metadata": {},
   "outputs": [
    {
     "data": {
      "text/plain": [
       "((36524, 6), (36524, 50))"
      ]
     },
     "execution_count": 65,
     "metadata": {},
     "output_type": "execute_result"
    }
   ],
   "source": [
    "x_train.shape,x_train_scaled.shape"
   ]
  },
  {
   "cell_type": "markdown",
   "id": "871e892c-410a-42fb-acae-1fab81b1ff73",
   "metadata": {},
   "source": [
    "## Modelo"
   ]
  },
  {
   "cell_type": "code",
   "execution_count": 66,
   "id": "d4faad61-1404-484e-99fc-d554515d56d8",
   "metadata": {},
   "outputs": [],
   "source": [
    "def test_model(modelo,x_train,x_test,y_train,y_test):\n",
    "    modelo.fit(x_train,y_train)\n",
    "    y_pred = modelo.predict(x_test)\n",
    "    \n",
    "    print(type(modelo).__name__)\n",
    "    print(classification_report(y_test,y_pred))\n",
    "    \n",
    "    return modelo"
   ]
  },
  {
   "cell_type": "code",
   "execution_count": 69,
   "id": "3dbfdfb0-2bcf-4a62-bb5b-0f15bf2e4726",
   "metadata": {},
   "outputs": [],
   "source": [
    "modelos = [LogisticRegression(),\n",
    "           DecisionTreeClassifier(random_state=42,max_depth=100),\n",
    "           RandomForestClassifier(random_state=42,max_depth=100),\n",
    "           SVC()]"
   ]
  },
  {
   "cell_type": "code",
   "execution_count": 70,
   "id": "6cf2a884-de77-4f85-b536-86579ba1583a",
   "metadata": {},
   "outputs": [
    {
     "name": "stderr",
     "output_type": "stream",
     "text": [
      " 25%|███████████▎                                 | 1/4 [00:00<00:01,  1.62it/s]"
     ]
    },
    {
     "name": "stdout",
     "output_type": "stream",
     "text": [
      "LogisticRegression\n",
      "              precision    recall  f1-score   support\n",
      "\n",
      "           0       0.66      0.86      0.75      5584\n",
      "           1       0.59      0.30      0.40      3548\n",
      "\n",
      "    accuracy                           0.65      9132\n",
      "   macro avg       0.62      0.58      0.57      9132\n",
      "weighted avg       0.63      0.65      0.61      9132\n",
      "\n"
     ]
    },
    {
     "name": "stderr",
     "output_type": "stream",
     "text": [
      " 50%|██████████████████████▌                      | 2/4 [00:01<00:02,  1.04s/it]"
     ]
    },
    {
     "name": "stdout",
     "output_type": "stream",
     "text": [
      "DecisionTreeClassifier\n",
      "              precision    recall  f1-score   support\n",
      "\n",
      "           0       0.65      0.77      0.71      5584\n",
      "           1       0.50      0.35      0.41      3548\n",
      "\n",
      "    accuracy                           0.61      9132\n",
      "   macro avg       0.57      0.56      0.56      9132\n",
      "weighted avg       0.59      0.61      0.59      9132\n",
      "\n"
     ]
    },
    {
     "name": "stderr",
     "output_type": "stream",
     "text": [
      " 75%|█████████████████████████████████▊           | 3/4 [00:17<00:07,  7.74s/it]"
     ]
    },
    {
     "name": "stdout",
     "output_type": "stream",
     "text": [
      "RandomForestClassifier\n",
      "              precision    recall  f1-score   support\n",
      "\n",
      "           0       0.66      0.71      0.69      5584\n",
      "           1       0.49      0.44      0.46      3548\n",
      "\n",
      "    accuracy                           0.60      9132\n",
      "   macro avg       0.58      0.57      0.57      9132\n",
      "weighted avg       0.60      0.60      0.60      9132\n",
      "\n"
     ]
    },
    {
     "name": "stderr",
     "output_type": "stream",
     "text": [
      "100%|█████████████████████████████████████████████| 4/4 [02:19<00:00, 34.88s/it]"
     ]
    },
    {
     "name": "stdout",
     "output_type": "stream",
     "text": [
      "SVC\n",
      "              precision    recall  f1-score   support\n",
      "\n",
      "           0       0.65      0.89      0.75      5584\n",
      "           1       0.59      0.24      0.34      3548\n",
      "\n",
      "    accuracy                           0.64      9132\n",
      "   macro avg       0.62      0.57      0.55      9132\n",
      "weighted avg       0.63      0.64      0.59      9132\n",
      "\n"
     ]
    },
    {
     "name": "stderr",
     "output_type": "stream",
     "text": [
      "\n"
     ]
    }
   ],
   "source": [
    "for modelo_teste in tqdm(modelos):\n",
    "    test_model(modelo_teste,x_train_scaled,x_test_scaled,y_train,y_test)"
   ]
  },
  {
   "cell_type": "code",
   "execution_count": null,
   "id": "221acb30-66d7-4a5f-a0be-c73392a7f757",
   "metadata": {},
   "outputs": [],
   "source": []
  },
  {
   "cell_type": "code",
   "execution_count": null,
   "id": "abf39774-2437-49a0-bcb9-ffa42f002c66",
   "metadata": {},
   "outputs": [],
   "source": []
  }
 ],
 "metadata": {
  "kernelspec": {
   "display_name": "Python 3 (ipykernel)",
   "language": "python",
   "name": "python3"
  },
  "language_info": {
   "codemirror_mode": {
    "name": "ipython",
    "version": 3
   },
   "file_extension": ".py",
   "mimetype": "text/x-python",
   "name": "python",
   "nbconvert_exporter": "python",
   "pygments_lexer": "ipython3",
   "version": "3.8.10"
  }
 },
 "nbformat": 4,
 "nbformat_minor": 5
}
