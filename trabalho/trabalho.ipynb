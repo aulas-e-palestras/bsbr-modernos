{
 "cells": [
  {
   "cell_type": "markdown",
   "id": "076315e8-13c7-45e3-af5e-5ac72bb079e8",
   "metadata": {},
   "source": [
    "# Trabalho"
   ]
  },
  {
   "cell_type": "markdown",
   "id": "bf28d25d-8986-44cf-b4ed-9a4673ee205a",
   "metadata": {},
   "source": [
    "Este trabalho consiste na resolução completa de 3 cases. Todos devem ser feitos neste notebook e entregues até o dia acordado com o professor. Algumas dicas:\n",
    "\n",
    "* Documente o seu código e use células markdown para explicar seus resultados\n",
    "* Ao começar a modelagem lembre de escolher a métrica correta e criar um baseline, ou seja, um valor para ser usado como referência e que seus modelos devem ultrapassar."
   ]
  },
  {
   "cell_type": "markdown",
   "id": "d9c24ab7-4126-4583-a704-729c58f9a3fc",
   "metadata": {},
   "source": [
    "## 1. Mobile Price Classification\n",
    "\n",
    "O [dataset](https://www.kaggle.com/datasets/iabhishekofficial/mobile-price-classification?select=train.csv) descreve as informações de vários aparelhos celular e também suas faixas de preço. Baixe o dataset e crie uma árvore de decisão para classificar os celulares em suas faixas de preço. Faça um plot com a árvore de decisão e discorra sobre a quantidade de folhas, classes mais comuns e probabilidades."
   ]
  },
  {
   "cell_type": "markdown",
   "id": "ce8b0e66-f107-4451-bacf-62a57ad5bc45",
   "metadata": {},
   "source": [
    "## 2. Medical Insurance Payout\n",
    "\n",
    "O [dataset](https://www.kaggle.com/datasets/harshsingh2209/medical-insurance-payout) descreve as informações de vários clientes de plano de saúde e quanto cada cliente custou em um ano para o plano. Baixe o dataset, crie e treine 3 modelos diferentes e os compare para definir qual entrega as melhores métricas. Finalmente, discorra sobre a arquitetura do melhor modelo e retreine escolhendo os melhores valores de parâmetros."
   ]
  },
  {
   "cell_type": "markdown",
   "id": "1208e7bb-1df3-4d0c-b2d7-29e6c072bd39",
   "metadata": {},
   "source": [
    "## 3. Spaceship Titanic\n",
    "\n",
    "O [dataset](https://www.kaggle.com/competitions/spaceship-titanic/data) descreve vários passageiros do \"titanic espacial\" e se foram transportados ou não para outra dimensão. Baixe o dataset, crie e treine um modelo de classificação utilizando redes neurais, discorra sobre a arquitetura que você escolheu, sua loss, métrica e resultados."
   ]
  }
 ],
 "metadata": {
  "kernelspec": {
   "display_name": "Python 3 (ipykernel)",
   "language": "python",
   "name": "python3"
  },
  "language_info": {
   "codemirror_mode": {
    "name": "ipython",
    "version": 3
   },
   "file_extension": ".py",
   "mimetype": "text/x-python",
   "name": "python",
   "nbconvert_exporter": "python",
   "pygments_lexer": "ipython3",
   "version": "3.8.10"
  }
 },
 "nbformat": 4,
 "nbformat_minor": 5
}
